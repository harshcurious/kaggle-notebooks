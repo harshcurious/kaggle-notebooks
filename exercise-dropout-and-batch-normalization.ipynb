{
 "cells": [
  {
   "cell_type": "markdown",
   "id": "b6c1f292",
   "metadata": {
    "papermill": {
     "duration": 0.015861,
     "end_time": "2021-12-29T13:00:10.807249",
     "exception": false,
     "start_time": "2021-12-29T13:00:10.791388",
     "status": "completed"
    },
    "tags": []
   },
   "source": [
    "**This notebook is an exercise in the [Intro to Deep Learning](https://www.kaggle.com/learn/intro-to-deep-learning) course.  You can reference the tutorial at [this link](https://www.kaggle.com/ryanholbrook/dropout-and-batch-normalization).**\n",
    "\n",
    "---\n"
   ]
  },
  {
   "cell_type": "markdown",
   "id": "6679183b",
   "metadata": {
    "papermill": {
     "duration": 0.01443,
     "end_time": "2021-12-29T13:00:10.837108",
     "exception": false,
     "start_time": "2021-12-29T13:00:10.822678",
     "status": "completed"
    },
    "tags": []
   },
   "source": [
    "# Introduction #\n",
    "\n",
    "In this exercise, you'll add dropout to the *Spotify* model from Exercise 4 and see how batch normalization can let you successfully train models on difficult datasets.\n",
    "\n",
    "Run the next cell to get started!"
   ]
  },
  {
   "cell_type": "code",
   "execution_count": 1,
   "id": "d1f8936f",
   "metadata": {
    "execution": {
     "iopub.execute_input": "2021-12-29T13:00:10.879786Z",
     "iopub.status.busy": "2021-12-29T13:00:10.879003Z",
     "iopub.status.idle": "2021-12-29T13:00:10.913439Z",
     "shell.execute_reply": "2021-12-29T13:00:10.912817Z",
     "shell.execute_reply.started": "2021-12-29T12:49:13.780249Z"
    },
    "papermill": {
     "duration": 0.061163,
     "end_time": "2021-12-29T13:00:10.913580",
     "exception": false,
     "start_time": "2021-12-29T13:00:10.852417",
     "status": "completed"
    },
    "tags": []
   },
   "outputs": [],
   "source": [
    "# Setup plotting\n",
    "import matplotlib.pyplot as plt\n",
    "plt.style.use('seaborn-whitegrid')\n",
    "# Set Matplotlib defaults\n",
    "plt.rc('figure', autolayout=True)\n",
    "plt.rc('axes', labelweight='bold', labelsize='large',\n",
    "       titleweight='bold', titlesize=18, titlepad=10)\n",
    "plt.rc('animation', html='html5')\n",
    "\n",
    "# Setup feedback system\n",
    "from learntools.core import binder\n",
    "binder.bind(globals())\n",
    "from learntools.deep_learning_intro.ex5 import *"
   ]
  },
  {
   "cell_type": "markdown",
   "id": "f5e8617d",
   "metadata": {
    "papermill": {
     "duration": 0.01464,
     "end_time": "2021-12-29T13:00:10.943316",
     "exception": false,
     "start_time": "2021-12-29T13:00:10.928676",
     "status": "completed"
    },
    "tags": []
   },
   "source": [
    "First load the *Spotify* dataset."
   ]
  },
  {
   "cell_type": "code",
   "execution_count": 2,
   "id": "94f5e0b9",
   "metadata": {
    "execution": {
     "iopub.execute_input": "2021-12-29T13:00:10.982385Z",
     "iopub.status.busy": "2021-12-29T13:00:10.981744Z",
     "iopub.status.idle": "2021-12-29T13:00:17.182621Z",
     "shell.execute_reply": "2021-12-29T13:00:17.182173Z",
     "shell.execute_reply.started": "2021-12-29T12:49:13.834846Z"
    },
    "papermill": {
     "duration": 6.224642,
     "end_time": "2021-12-29T13:00:17.182751",
     "exception": false,
     "start_time": "2021-12-29T13:00:10.958109",
     "status": "completed"
    },
    "tags": []
   },
   "outputs": [
    {
     "name": "stdout",
     "output_type": "stream",
     "text": [
      "Input shape: [18]\n"
     ]
    }
   ],
   "source": [
    "import pandas as pd\n",
    "from sklearn.preprocessing import StandardScaler, OneHotEncoder\n",
    "from sklearn.compose import make_column_transformer\n",
    "from sklearn.model_selection import GroupShuffleSplit\n",
    "\n",
    "from tensorflow import keras\n",
    "from tensorflow.keras import layers\n",
    "from tensorflow.keras import callbacks\n",
    "\n",
    "spotify = pd.read_csv('../input/dl-course-data/spotify.csv')\n",
    "\n",
    "X = spotify.copy().dropna()\n",
    "y = X.pop('track_popularity')\n",
    "artists = X['track_artist']\n",
    "\n",
    "features_num = ['danceability', 'energy', 'key', 'loudness', 'mode',\n",
    "                'speechiness', 'acousticness', 'instrumentalness',\n",
    "                'liveness', 'valence', 'tempo', 'duration_ms']\n",
    "features_cat = ['playlist_genre']\n",
    "\n",
    "preprocessor = make_column_transformer(\n",
    "    (StandardScaler(), features_num),\n",
    "    (OneHotEncoder(), features_cat),\n",
    ")\n",
    "\n",
    "def group_split(X, y, group, train_size=0.75):\n",
    "    splitter = GroupShuffleSplit(train_size=train_size)\n",
    "    train, test = next(splitter.split(X, y, groups=group))\n",
    "    return (X.iloc[train], X.iloc[test], y.iloc[train], y.iloc[test])\n",
    "\n",
    "X_train, X_valid, y_train, y_valid = group_split(X, y, artists)\n",
    "\n",
    "X_train = preprocessor.fit_transform(X_train)\n",
    "X_valid = preprocessor.transform(X_valid)\n",
    "y_train = y_train / 100\n",
    "y_valid = y_valid / 100\n",
    "\n",
    "input_shape = [X_train.shape[1]]\n",
    "print(\"Input shape: {}\".format(input_shape))"
   ]
  },
  {
   "cell_type": "markdown",
   "id": "65ea27b3",
   "metadata": {
    "papermill": {
     "duration": 0.014943,
     "end_time": "2021-12-29T13:00:17.213276",
     "exception": false,
     "start_time": "2021-12-29T13:00:17.198333",
     "status": "completed"
    },
    "tags": []
   },
   "source": [
    "# 1) Add Dropout to Spotify Model\n",
    "\n",
    "Here is the last model from Exercise 4. Add two dropout layers, one after the `Dense` layer with 128 units, and one after the `Dense` layer with 64 units. Set the dropout rate on both to `0.3`."
   ]
  },
  {
   "cell_type": "code",
   "execution_count": 3,
   "id": "52a06822",
   "metadata": {
    "execution": {
     "iopub.execute_input": "2021-12-29T13:00:17.248382Z",
     "iopub.status.busy": "2021-12-29T13:00:17.247843Z",
     "iopub.status.idle": "2021-12-29T13:00:19.637820Z",
     "shell.execute_reply": "2021-12-29T13:00:19.637377Z",
     "shell.execute_reply.started": "2021-12-29T12:50:30.395943Z"
    },
    "lines_to_next_cell": 2,
    "papermill": {
     "duration": 2.409602,
     "end_time": "2021-12-29T13:00:19.637935",
     "exception": false,
     "start_time": "2021-12-29T13:00:17.228333",
     "status": "completed"
    },
    "tags": []
   },
   "outputs": [
    {
     "name": "stderr",
     "output_type": "stream",
     "text": [
      "2021-12-29 13:00:17.330791: I tensorflow/stream_executor/cuda/cuda_gpu_executor.cc:937] successful NUMA node read from SysFS had negative value (-1), but there must be at least one NUMA node, so returning NUMA node zero\n",
      "2021-12-29 13:00:17.421580: I tensorflow/stream_executor/cuda/cuda_gpu_executor.cc:937] successful NUMA node read from SysFS had negative value (-1), but there must be at least one NUMA node, so returning NUMA node zero\n",
      "2021-12-29 13:00:17.422318: I tensorflow/stream_executor/cuda/cuda_gpu_executor.cc:937] successful NUMA node read from SysFS had negative value (-1), but there must be at least one NUMA node, so returning NUMA node zero\n",
      "2021-12-29 13:00:17.423544: I tensorflow/core/platform/cpu_feature_guard.cc:142] This TensorFlow binary is optimized with oneAPI Deep Neural Network Library (oneDNN) to use the following CPU instructions in performance-critical operations:  AVX2 AVX512F FMA\n",
      "To enable them in other operations, rebuild TensorFlow with the appropriate compiler flags.\n",
      "2021-12-29 13:00:17.424740: I tensorflow/stream_executor/cuda/cuda_gpu_executor.cc:937] successful NUMA node read from SysFS had negative value (-1), but there must be at least one NUMA node, so returning NUMA node zero\n",
      "2021-12-29 13:00:17.425451: I tensorflow/stream_executor/cuda/cuda_gpu_executor.cc:937] successful NUMA node read from SysFS had negative value (-1), but there must be at least one NUMA node, so returning NUMA node zero\n",
      "2021-12-29 13:00:17.426051: I tensorflow/stream_executor/cuda/cuda_gpu_executor.cc:937] successful NUMA node read from SysFS had negative value (-1), but there must be at least one NUMA node, so returning NUMA node zero\n",
      "2021-12-29 13:00:19.256827: I tensorflow/stream_executor/cuda/cuda_gpu_executor.cc:937] successful NUMA node read from SysFS had negative value (-1), but there must be at least one NUMA node, so returning NUMA node zero\n",
      "2021-12-29 13:00:19.257720: I tensorflow/stream_executor/cuda/cuda_gpu_executor.cc:937] successful NUMA node read from SysFS had negative value (-1), but there must be at least one NUMA node, so returning NUMA node zero\n",
      "2021-12-29 13:00:19.258371: I tensorflow/stream_executor/cuda/cuda_gpu_executor.cc:937] successful NUMA node read from SysFS had negative value (-1), but there must be at least one NUMA node, so returning NUMA node zero\n",
      "2021-12-29 13:00:19.258937: I tensorflow/core/common_runtime/gpu/gpu_device.cc:1510] Created device /job:localhost/replica:0/task:0/device:GPU:0 with 15403 MB memory:  -> device: 0, name: Tesla P100-PCIE-16GB, pci bus id: 0000:00:04.0, compute capability: 6.0\n"
     ]
    },
    {
     "data": {
      "application/javascript": [
       "parent.postMessage({\"jupyterEvent\": \"custom.exercise_interaction\", \"data\": {\"outcomeType\": 1, \"valueTowardsCompletion\": 0.25, \"interactionType\": 1, \"questionType\": 2, \"questionId\": \"1_Q1\", \"learnToolsVersion\": \"0.3.4\", \"failureMessage\": \"\", \"exceptionClass\": \"\", \"trace\": \"\"}}, \"*\")"
      ],
      "text/plain": [
       "<IPython.core.display.Javascript object>"
      ]
     },
     "metadata": {},
     "output_type": "display_data"
    },
    {
     "data": {
      "text/markdown": [
       "<span style=\"color:#33cc33\">Correct</span>"
      ],
      "text/plain": [
       "Correct"
      ]
     },
     "metadata": {},
     "output_type": "display_data"
    }
   ],
   "source": [
    "# YOUR CODE HERE: Add two 30% dropout layers, one after 128 and one after 64\n",
    "model = keras.Sequential([\n",
    "    layers.Dense(128, activation='relu', input_shape=input_shape),\n",
    "    layers.Dropout(rate=0.3),\n",
    "    layers.Dense(64, activation='relu'),\n",
    "    layers.Dropout(rate=0.3),\n",
    "    layers.Dense(1)\n",
    "])\n",
    "\n",
    "# Check your answer\n",
    "q_1.check()"
   ]
  },
  {
   "cell_type": "code",
   "execution_count": 4,
   "id": "039882f6",
   "metadata": {
    "execution": {
     "iopub.execute_input": "2021-12-29T13:00:19.674472Z",
     "iopub.status.busy": "2021-12-29T13:00:19.673663Z",
     "iopub.status.idle": "2021-12-29T13:00:19.676476Z",
     "shell.execute_reply": "2021-12-29T13:00:19.676013Z",
     "shell.execute_reply.started": "2021-12-29T12:50:37.624228Z"
    },
    "papermill": {
     "duration": 0.021869,
     "end_time": "2021-12-29T13:00:19.676583",
     "exception": false,
     "start_time": "2021-12-29T13:00:19.654714",
     "status": "completed"
    },
    "tags": []
   },
   "outputs": [],
   "source": [
    "# Lines below will give you a hint or solution code\n",
    "#q_1.hint()\n",
    "#q_1.solution()"
   ]
  },
  {
   "cell_type": "markdown",
   "id": "c696ae7f",
   "metadata": {
    "papermill": {
     "duration": 0.016724,
     "end_time": "2021-12-29T13:00:19.709600",
     "exception": false,
     "start_time": "2021-12-29T13:00:19.692876",
     "status": "completed"
    },
    "tags": []
   },
   "source": [
    "Now run this next cell to train the model see the effect of adding dropout."
   ]
  },
  {
   "cell_type": "code",
   "execution_count": 5,
   "id": "fac0b083",
   "metadata": {
    "execution": {
     "iopub.execute_input": "2021-12-29T13:00:19.749570Z",
     "iopub.status.busy": "2021-12-29T13:00:19.747871Z",
     "iopub.status.idle": "2021-12-29T13:00:27.435696Z",
     "shell.execute_reply": "2021-12-29T13:00:27.436154Z",
     "shell.execute_reply.started": "2021-12-29T12:50:40.180612Z"
    },
    "papermill": {
     "duration": 7.709219,
     "end_time": "2021-12-29T13:00:27.436305",
     "exception": false,
     "start_time": "2021-12-29T13:00:19.727086",
     "status": "completed"
    },
    "tags": []
   },
   "outputs": [
    {
     "name": "stderr",
     "output_type": "stream",
     "text": [
      "2021-12-29 13:00:19.822612: I tensorflow/compiler/mlir/mlir_graph_optimization_pass.cc:185] None of the MLIR Optimization Passes are enabled (registered 2)\n"
     ]
    },
    {
     "name": "stdout",
     "output_type": "stream",
     "text": [
      "Minimum Validation Loss: 0.1906\n"
     ]
    },
    {
     "data": {
      "image/png": "[encoded data removed]",
      "text/plain": [
       "<Figure size 432x288 with 1 Axes>"
      ]
     },
     "metadata": {},
     "output_type": "display_data"
    }
   ],
   "source": [
    "model.compile(\n",
    "    optimizer='adam',\n",
    "    loss='mae',\n",
    ")\n",
    "history = model.fit(\n",
    "    X_train, y_train,\n",
    "    validation_data=(X_valid, y_valid),\n",
    "    batch_size=512,\n",
    "    epochs=50,\n",
    "    verbose=0,\n",
    ")\n",
    "history_df = pd.DataFrame(history.history)\n",
    "history_df.loc[:, ['loss', 'val_loss']].plot()\n",
    "print(\"Minimum Validation Loss: {:0.4f}\".format(history_df['val_loss'].min()))"
   ]
  },
  {
   "cell_type": "markdown",
   "id": "87a5201b",
   "metadata": {
    "papermill": {
     "duration": 0.017712,
     "end_time": "2021-12-29T13:00:27.472120",
     "exception": false,
     "start_time": "2021-12-29T13:00:27.454408",
     "status": "completed"
    },
    "tags": []
   },
   "source": [
    "# 2) Evaluate Dropout\n",
    "\n",
    "Recall from Exercise 4 that this model tended to overfit the data around epoch 5. Did adding dropout seem to help prevent overfitting this time?"
   ]
  },
  {
   "cell_type": "markdown",
   "id": "9edd8b78",
   "metadata": {
    "papermill": {
     "duration": 0.017542,
     "end_time": "2021-12-29T13:00:27.507178",
     "exception": false,
     "start_time": "2021-12-29T13:00:27.489636",
     "status": "completed"
    },
    "tags": []
   },
   "source": [
    "It did improve it a a bit. The validation error is a lot less. But I would argue that we are still overfitting a bit 🙁."
   ]
  },
  {
   "cell_type": "code",
   "execution_count": 6,
   "id": "5f9e46a4",
   "metadata": {
    "execution": {
     "iopub.execute_input": "2021-12-29T13:00:27.548119Z",
     "iopub.status.busy": "2021-12-29T13:00:27.546294Z",
     "iopub.status.idle": "2021-12-29T13:00:27.550993Z",
     "shell.execute_reply": "2021-12-29T13:00:27.551413Z",
     "shell.execute_reply.started": "2021-12-29T12:53:07.180421Z"
    },
    "papermill": {
     "duration": 0.026863,
     "end_time": "2021-12-29T13:00:27.551535",
     "exception": false,
     "start_time": "2021-12-29T13:00:27.524672",
     "status": "completed"
    },
    "tags": []
   },
   "outputs": [
    {
     "data": {
      "application/javascript": [
       "parent.postMessage({\"jupyterEvent\": \"custom.exercise_interaction\", \"data\": {\"outcomeType\": 1, \"valueTowardsCompletion\": 0.25, \"interactionType\": 1, \"questionType\": 4, \"questionId\": \"2_Q2\", \"learnToolsVersion\": \"0.3.4\", \"failureMessage\": \"\", \"exceptionClass\": \"\", \"trace\": \"\"}}, \"*\")"
      ],
      "text/plain": [
       "<IPython.core.display.Javascript object>"
      ]
     },
     "metadata": {},
     "output_type": "display_data"
    },
    {
     "data": {
      "text/markdown": [
       "<span style=\"color:#33cc33\">Correct:</span> \n",
       "\n",
       "\n",
       "From the learning curves, you can see that the validation loss remains near a constant minimum even though the training loss continues to decrease. So we can see that adding dropout did prevent overfitting this time. Moreover, by making it harder for the network to fit spurious patterns, dropout may have encouraged the network to seek out more of the true patterns, possibly improving the validation loss some as well).\n"
      ],
      "text/plain": [
       "Correct: \n",
       "\n",
       "\n",
       "From the learning curves, you can see that the validation loss remains near a constant minimum even though the training loss continues to decrease. So we can see that adding dropout did prevent overfitting this time. Moreover, by making it harder for the network to fit spurious patterns, dropout may have encouraged the network to seek out more of the true patterns, possibly improving the validation loss some as well)."
      ]
     },
     "metadata": {},
     "output_type": "display_data"
    }
   ],
   "source": [
    "# View the solution (Run this cell to receive credit!)\n",
    "q_2.check()"
   ]
  },
  {
   "cell_type": "markdown",
   "id": "b12703c6",
   "metadata": {
    "papermill": {
     "duration": 0.018203,
     "end_time": "2021-12-29T13:00:27.588030",
     "exception": false,
     "start_time": "2021-12-29T13:00:27.569827",
     "status": "completed"
    },
    "tags": []
   },
   "source": [
    "Now, we'll switch topics to explore how batch normalization can fix problems in training.\n",
    "\n",
    "Load the *Concrete* dataset. We won't do any standardization this time. This will make the effect of batch normalization much more apparent."
   ]
  },
  {
   "cell_type": "code",
   "execution_count": 7,
   "id": "d6174906",
   "metadata": {
    "execution": {
     "iopub.execute_input": "2021-12-29T13:00:27.630373Z",
     "iopub.status.busy": "2021-12-29T13:00:27.629849Z",
     "iopub.status.idle": "2021-12-29T13:00:27.645807Z",
     "shell.execute_reply": "2021-12-29T13:00:27.645376Z",
     "shell.execute_reply.started": "2021-12-29T12:53:44.680808Z"
    },
    "papermill": {
     "duration": 0.039477,
     "end_time": "2021-12-29T13:00:27.645910",
     "exception": false,
     "start_time": "2021-12-29T13:00:27.606433",
     "status": "completed"
    },
    "tags": []
   },
   "outputs": [],
   "source": [
    "import pandas as pd\n",
    "\n",
    "concrete = pd.read_csv('../input/dl-course-data/concrete.csv')\n",
    "df = concrete.copy()\n",
    "\n",
    "df_train = df.sample(frac=0.7, random_state=0)\n",
    "df_valid = df.drop(df_train.index)\n",
    "\n",
    "X_train = df_train.drop('CompressiveStrength', axis=1)\n",
    "X_valid = df_valid.drop('CompressiveStrength', axis=1)\n",
    "y_train = df_train['CompressiveStrength']\n",
    "y_valid = df_valid['CompressiveStrength']\n",
    "\n",
    "input_shape = [X_train.shape[1]]"
   ]
  },
  {
   "cell_type": "markdown",
   "id": "c47b62bf",
   "metadata": {
    "papermill": {
     "duration": 0.018145,
     "end_time": "2021-12-29T13:00:27.682792",
     "exception": false,
     "start_time": "2021-12-29T13:00:27.664647",
     "status": "completed"
    },
    "tags": []
   },
   "source": [
    "Run the following cell to train the network on the unstandardized *Concrete* data."
   ]
  },
  {
   "cell_type": "code",
   "execution_count": 8,
   "id": "a3266a25",
   "metadata": {
    "execution": {
     "iopub.execute_input": "2021-12-29T13:00:27.730754Z",
     "iopub.status.busy": "2021-12-29T13:00:27.729358Z",
     "iopub.status.idle": "2021-12-29T13:00:32.700320Z",
     "shell.execute_reply": "2021-12-29T13:00:32.700948Z",
     "shell.execute_reply.started": "2021-12-29T12:53:49.684368Z"
    },
    "papermill": {
     "duration": 5.000018,
     "end_time": "2021-12-29T13:00:32.701127",
     "exception": false,
     "start_time": "2021-12-29T13:00:27.701109",
     "status": "completed"
    },
    "tags": []
   },
   "outputs": [
    {
     "name": "stdout",
     "output_type": "stream",
     "text": [
      "Minimum Validation Loss: nan\n"
     ]
    },
    {
     "data": {
      "image/png": "[encoded data removed]",
      "text/plain": [
       "<Figure size 432x288 with 1 Axes>"
      ]
     },
     "metadata": {},
     "output_type": "display_data"
    }
   ],
   "source": [
    "model = keras.Sequential([\n",
    "    layers.Dense(512, activation='relu', input_shape=input_shape),\n",
    "    layers.Dense(512, activation='relu'),    \n",
    "    layers.Dense(512, activation='relu'),\n",
    "    layers.Dense(1),\n",
    "])\n",
    "model.compile(\n",
    "    optimizer='sgd', # SGD is more sensitive to differences of scale\n",
    "    loss='mae',\n",
    "    metrics=['mae'],\n",
    ")\n",
    "history = model.fit(\n",
    "    X_train, y_train,\n",
    "    validation_data=(X_valid, y_valid),\n",
    "    batch_size=64,\n",
    "    epochs=100,\n",
    "    verbose=0,\n",
    ")\n",
    "\n",
    "history_df = pd.DataFrame(history.history)\n",
    "history_df.loc[0:, ['loss', 'val_loss']].plot()\n",
    "print((\"Minimum Validation Loss: {:0.4f}\").format(history_df['val_loss'].min()))"
   ]
  },
  {
   "cell_type": "markdown",
   "id": "7e135866",
   "metadata": {
    "papermill": {
     "duration": 0.020027,
     "end_time": "2021-12-29T13:00:32.741392",
     "exception": false,
     "start_time": "2021-12-29T13:00:32.721365",
     "status": "completed"
    },
    "tags": []
   },
   "source": [
    "Did you end up with a blank graph? Trying to train this network on this dataset will usually fail. Even when it does converge (due to a lucky weight initialization), it tends to converge to a very large number.\n",
    "\n",
    "# 3) Add Batch Normalization Layers\n",
    "\n",
    "Batch normalization can help correct problems like this.\n",
    "\n",
    "Add four `BatchNormalization` layers, one before each of the dense layers. (Remember to move the `input_shape` argument to the new first layer.)"
   ]
  },
  {
   "cell_type": "code",
   "execution_count": 9,
   "id": "a748d669",
   "metadata": {
    "execution": {
     "iopub.execute_input": "2021-12-29T13:00:32.792851Z",
     "iopub.status.busy": "2021-12-29T13:00:32.792047Z",
     "iopub.status.idle": "2021-12-29T13:00:32.800284Z",
     "shell.execute_reply": "2021-12-29T13:00:32.800687Z",
     "shell.execute_reply.started": "2021-12-29T12:57:18.757411Z"
    },
    "lines_to_next_cell": 0,
    "papermill": {
     "duration": 0.040097,
     "end_time": "2021-12-29T13:00:32.800809",
     "exception": false,
     "start_time": "2021-12-29T13:00:32.760712",
     "status": "completed"
    },
    "tags": []
   },
   "outputs": [
    {
     "data": {
      "application/javascript": [
       "parent.postMessage({\"jupyterEvent\": \"custom.exercise_interaction\", \"data\": {\"outcomeType\": 1, \"valueTowardsCompletion\": 0.25, \"interactionType\": 1, \"questionType\": 2, \"questionId\": \"3_Q3\", \"learnToolsVersion\": \"0.3.4\", \"failureMessage\": \"\", \"exceptionClass\": \"\", \"trace\": \"\"}}, \"*\")"
      ],
      "text/plain": [
       "<IPython.core.display.Javascript object>"
      ]
     },
     "metadata": {},
     "output_type": "display_data"
    },
    {
     "data": {
      "text/markdown": [
       "<span style=\"color:#33cc33\">Correct</span>"
      ],
      "text/plain": [
       "Correct"
      ]
     },
     "metadata": {},
     "output_type": "display_data"
    }
   ],
   "source": [
    "# YOUR CODE HERE: Add a BatchNormalization layer before each Dense layer\n",
    "model = keras.Sequential([\n",
    "    layers.BatchNormalization(),\n",
    "    layers.Dense(512, activation='relu', input_shape=input_shape),\n",
    "    layers.BatchNormalization(),\n",
    "    layers.Dense(512, activation='relu'),\n",
    "    layers.BatchNormalization(),\n",
    "    layers.Dense(512, activation='relu'),\n",
    "    layers.BatchNormalization(),\n",
    "    layers.Dense(1),\n",
    "])\n",
    "\n",
    "# Check your answer\n",
    "q_3.check()"
   ]
  },
  {
   "cell_type": "code",
   "execution_count": 10,
   "id": "018fefd0",
   "metadata": {
    "execution": {
     "iopub.execute_input": "2021-12-29T13:00:32.846592Z",
     "iopub.status.busy": "2021-12-29T13:00:32.844978Z",
     "iopub.status.idle": "2021-12-29T13:00:32.847216Z",
     "shell.execute_reply": "2021-12-29T13:00:32.847618Z",
     "shell.execute_reply.started": "2021-12-29T12:57:20.999989Z"
    },
    "papermill": {
     "duration": 0.0257,
     "end_time": "2021-12-29T13:00:32.847733",
     "exception": false,
     "start_time": "2021-12-29T13:00:32.822033",
     "status": "completed"
    },
    "tags": []
   },
   "outputs": [],
   "source": [
    "# Lines below will give you a hint or solution code\n",
    "#q_3.hint()\n",
    "#q_3.solution()"
   ]
  },
  {
   "cell_type": "markdown",
   "id": "c393690a",
   "metadata": {
    "papermill": {
     "duration": 0.01981,
     "end_time": "2021-12-29T13:00:32.888235",
     "exception": false,
     "start_time": "2021-12-29T13:00:32.868425",
     "status": "completed"
    },
    "tags": []
   },
   "source": [
    "Run the next cell to see if batch normalization will let us train the model."
   ]
  },
  {
   "cell_type": "code",
   "execution_count": 11,
   "id": "8ebaa748",
   "metadata": {
    "execution": {
     "iopub.execute_input": "2021-12-29T13:00:32.936379Z",
     "iopub.status.busy": "2021-12-29T13:00:32.935570Z",
     "iopub.status.idle": "2021-12-29T13:00:41.265111Z",
     "shell.execute_reply": "2021-12-29T13:00:41.265660Z",
     "shell.execute_reply.started": "2021-12-29T12:57:28.244660Z"
    },
    "papermill": {
     "duration": 8.357592,
     "end_time": "2021-12-29T13:00:41.265823",
     "exception": false,
     "start_time": "2021-12-29T13:00:32.908231",
     "status": "completed"
    },
    "tags": []
   },
   "outputs": [
    {
     "name": "stdout",
     "output_type": "stream",
     "text": [
      "Minimum Validation Loss: 3.8497\n"
     ]
    },
    {
     "data": {
      "image/png": "[encoded data removed]",
      "text/plain": [
       "<Figure size 432x288 with 1 Axes>"
      ]
     },
     "metadata": {},
     "output_type": "display_data"
    }
   ],
   "source": [
    "model.compile(\n",
    "    optimizer='sgd',\n",
    "    loss='mae',\n",
    "    metrics=['mae'],\n",
    ")\n",
    "EPOCHS = 100\n",
    "history = model.fit(\n",
    "    X_train, y_train,\n",
    "    validation_data=(X_valid, y_valid),\n",
    "    batch_size=64,\n",
    "    epochs=EPOCHS,\n",
    "    verbose=0,\n",
    ")\n",
    "\n",
    "history_df = pd.DataFrame(history.history)\n",
    "history_df.loc[0:, ['loss', 'val_loss']].plot()\n",
    "print((\"Minimum Validation Loss: {:0.4f}\").format(history_df['val_loss'].min()))"
   ]
  },
  {
   "cell_type": "markdown",
   "id": "d99303e4",
   "metadata": {
    "papermill": {
     "duration": 0.021272,
     "end_time": "2021-12-29T13:00:41.308837",
     "exception": false,
     "start_time": "2021-12-29T13:00:41.287565",
     "status": "completed"
    },
    "tags": []
   },
   "source": [
    "# 4) Evaluate Batch Normalization\n",
    "\n",
    "Did adding batch normalization help?"
   ]
  },
  {
   "cell_type": "markdown",
   "id": "e4957131",
   "metadata": {
    "papermill": {
     "duration": 0.021521,
     "end_time": "2021-12-29T13:00:41.351883",
     "exception": false,
     "start_time": "2021-12-29T13:00:41.330362",
     "status": "completed"
    },
    "tags": []
   },
   "source": [
    "Oh, a lot! Last time it didn't even work. Now we have a resonable model!"
   ]
  },
  {
   "cell_type": "code",
   "execution_count": 12,
   "id": "7d524782",
   "metadata": {
    "execution": {
     "iopub.execute_input": "2021-12-29T13:00:41.400389Z",
     "iopub.status.busy": "2021-12-29T13:00:41.399572Z",
     "iopub.status.idle": "2021-12-29T13:00:41.403680Z",
     "shell.execute_reply": "2021-12-29T13:00:41.404119Z",
     "shell.execute_reply.started": "2021-12-29T12:59:04.650332Z"
    },
    "lines_to_next_cell": 0,
    "papermill": {
     "duration": 0.030499,
     "end_time": "2021-12-29T13:00:41.404247",
     "exception": false,
     "start_time": "2021-12-29T13:00:41.373748",
     "status": "completed"
    },
    "tags": []
   },
   "outputs": [
    {
     "data": {
      "application/javascript": [
       "parent.postMessage({\"jupyterEvent\": \"custom.exercise_interaction\", \"data\": {\"outcomeType\": 1, \"valueTowardsCompletion\": 0.25, \"interactionType\": 1, \"questionType\": 4, \"questionId\": \"4_Q4\", \"learnToolsVersion\": \"0.3.4\", \"failureMessage\": \"\", \"exceptionClass\": \"\", \"trace\": \"\"}}, \"*\")"
      ],
      "text/plain": [
       "<IPython.core.display.Javascript object>"
      ]
     },
     "metadata": {},
     "output_type": "display_data"
    },
    {
     "data": {
      "text/markdown": [
       "<span style=\"color:#33cc33\">Correct:</span> \n",
       "\n",
       "\n",
       "You can see that adding batch normalization was a big improvement on the first attempt! By adaptively scaling the data as it passes through the network, batch normalization can let you train models on difficult datasets.\n"
      ],
      "text/plain": [
       "Correct: \n",
       "\n",
       "\n",
       "You can see that adding batch normalization was a big improvement on the first attempt! By adaptively scaling the data as it passes through the network, batch normalization can let you train models on difficult datasets."
      ]
     },
     "metadata": {},
     "output_type": "display_data"
    }
   ],
   "source": [
    "# View the solution (Run this cell to receive credit!)\n",
    "q_4.check()"
   ]
  },
  {
   "cell_type": "markdown",
   "id": "348e99b7",
   "metadata": {
    "papermill": {
     "duration": 0.021863,
     "end_time": "2021-12-29T13:00:41.448058",
     "exception": false,
     "start_time": "2021-12-29T13:00:41.426195",
     "status": "completed"
    },
    "tags": []
   },
   "source": [
    "# Keep Going #\n",
    "\n",
    "[**Create neural networks**](https://www.kaggle.com/ryanholbrook/binary-classification) for binary classification."
   ]
  },
  {
   "cell_type": "markdown",
   "id": "216b6bfe",
   "metadata": {
    "papermill": {
     "duration": 0.022671,
     "end_time": "2021-12-29T13:00:41.493154",
     "exception": false,
     "start_time": "2021-12-29T13:00:41.470483",
     "status": "completed"
    },
    "tags": []
   },
   "source": [
    "---\n",
    "\n",
    "\n",
    "\n",
    "\n",
    "*Have questions or comments? Visit the [course discussion forum](https://www.kaggle.com/learn/intro-to-deep-learning/discussion) to chat with other learners.*"
   ]
  }
 ],
 "metadata": {
  "kernelspec": {
   "display_name": "Python 3",
   "language": "python",
   "name": "python3"
  },
  "language_info": {
   "codemirror_mode": {
    "name": "ipython",
    "version": 3
   },
   "file_extension": ".py",
   "mimetype": "text/x-python",
   "name": "python",
   "nbconvert_exporter": "python",
   "pygments_lexer": "ipython3",
   "version": "3.7.12"
  },
  "papermill": {
   "default_parameters": {},
   "duration": 42.334091,
   "end_time": "2021-12-29T13:00:45.024475",
   "environment_variables": {},
   "exception": null,
   "input_path": "__notebook__.ipynb",
   "output_path": "__notebook__.ipynb",
   "parameters": {},
   "start_time": "2021-12-29T13:00:02.690384",
   "version": "2.3.3"
  }
 },
 "nbformat": 4,
 "nbformat_minor": 5
}
