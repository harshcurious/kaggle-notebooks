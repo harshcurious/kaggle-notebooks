{
 "cells": [
  {
   "cell_type": "markdown",
   "id": "c72b5fb5",
   "metadata": {
    "papermill": {
     "duration": 0.026143,
     "end_time": "2022-02-07T17:57:15.849580",
     "exception": false,
     "start_time": "2022-02-07T17:57:15.823437",
     "status": "completed"
    },
    "tags": []
   },
   "source": [
    "**This notebook is an exercise in the [Intermediate Machine Learning](https://www.kaggle.com/learn/intermediate-machine-learning) course.  You can reference the tutorial at [this link](https://www.kaggle.com/alexisbcook/categorical-variables).**\n",
    "\n",
    "---\n"
   ]
  },
  {
   "cell_type": "markdown",
   "id": "9d613714",
   "metadata": {
    "papermill": {
     "duration": 0.026062,
     "end_time": "2022-02-07T17:57:15.902273",
     "exception": false,
     "start_time": "2022-02-07T17:57:15.876211",
     "status": "completed"
    },
    "tags": []
   },
   "source": [
    "By encoding **categorical variables**, you'll obtain your best results thus far!\n",
    "\n",
    "# Setup\n",
    "\n",
    "The questions below will give you feedback on your work. Run the following cell to set up the feedback system."
   ]
  },
  {
   "cell_type": "code",
   "execution_count": 1,
   "id": "b46bb282",
   "metadata": {
    "execution": {
     "iopub.execute_input": "2022-02-07T17:57:15.964316Z",
     "iopub.status.busy": "2022-02-07T17:57:15.963729Z",
     "iopub.status.idle": "2022-02-07T17:57:15.990248Z",
     "shell.execute_reply": "2022-02-07T17:57:15.989671Z",
     "shell.execute_reply.started": "2022-02-07T17:36:06.809845Z"
    },
    "papermill": {
     "duration": 0.062855,
     "end_time": "2022-02-07T17:57:15.990371",
     "exception": false,
     "start_time": "2022-02-07T17:57:15.927516",
     "status": "completed"
    },
    "tags": []
   },
   "outputs": [
    {
     "name": "stdout",
     "output_type": "stream",
     "text": [
      "Setup Complete\n"
     ]
    }
   ],
   "source": [
    "# Set up code checking\n",
    "import os\n",
    "if not os.path.exists(\"../input/train.csv\"):\n",
    "    os.symlink(\"../input/home-data-for-ml-course/train.csv\", \"../input/train.csv\")  \n",
    "    os.symlink(\"../input/home-data-for-ml-course/test.csv\", \"../input/test.csv\") \n",
    "from learntools.core import binder\n",
    "binder.bind(globals())\n",
    "from learntools.ml_intermediate.ex3 import *\n",
    "print(\"Setup Complete\")"
   ]
  },
  {
   "cell_type": "markdown",
   "id": "88f42ad7",
   "metadata": {
    "papermill": {
     "duration": 0.025881,
     "end_time": "2022-02-07T17:57:16.042444",
     "exception": false,
     "start_time": "2022-02-07T17:57:16.016563",
     "status": "completed"
    },
    "tags": []
   },
   "source": [
    "In this exercise, you will work with data from the [Housing Prices Competition for Kaggle Learn Users](https://www.kaggle.com/c/home-data-for-ml-course). \n",
    "\n",
    "![Ames Housing dataset image](https://i.imgur.com/lTJVG4e.png)\n",
    "\n",
    "Run the next code cell without changes to load the training and validation sets in `X_train`, `X_valid`, `y_train`, and `y_valid`.  The test set is loaded in `X_test`."
   ]
  },
  {
   "cell_type": "code",
   "execution_count": 2,
   "id": "eaad0bae",
   "metadata": {
    "execution": {
     "iopub.execute_input": "2022-02-07T17:57:16.104548Z",
     "iopub.status.busy": "2022-02-07T17:57:16.103830Z",
     "iopub.status.idle": "2022-02-07T17:57:17.081534Z",
     "shell.execute_reply": "2022-02-07T17:57:17.080612Z",
     "shell.execute_reply.started": "2022-02-07T17:36:06.893564Z"
    },
    "papermill": {
     "duration": 1.013621,
     "end_time": "2022-02-07T17:57:17.081699",
     "exception": false,
     "start_time": "2022-02-07T17:57:16.068078",
     "status": "completed"
    },
    "tags": []
   },
   "outputs": [],
   "source": [
    "import pandas as pd\n",
    "from sklearn.model_selection import train_test_split\n",
    "\n",
    "# Read the data\n",
    "X = pd.read_csv('../input/train.csv', index_col='Id') \n",
    "X_test = pd.read_csv('../input/test.csv', index_col='Id')\n",
    "\n",
    "# Remove rows with missing target, separate target from predictors\n",
    "X.dropna(axis=0, subset=['SalePrice'], inplace=True)\n",
    "y = X.SalePrice\n",
    "X.drop(['SalePrice'], axis=1, inplace=True)\n",
    "\n",
    "# To keep things simple, we'll drop columns with missing values\n",
    "cols_with_missing = [col for col in X.columns if X[col].isnull().any()] \n",
    "X.drop(cols_with_missing, axis=1, inplace=True)\n",
    "X_test.drop(cols_with_missing, axis=1, inplace=True)\n",
    "\n",
    "# Break off validation set from training data\n",
    "X_train, X_valid, y_train, y_valid = train_test_split(X, y,\n",
    "                                                      train_size=0.8, test_size=0.2,\n",
    "                                                      random_state=0)"
   ]
  },
  {
   "cell_type": "markdown",
   "id": "ef6c1e43",
   "metadata": {
    "papermill": {
     "duration": 0.046472,
     "end_time": "2022-02-07T17:57:17.156585",
     "exception": false,
     "start_time": "2022-02-07T17:57:17.110113",
     "status": "completed"
    },
    "tags": []
   },
   "source": [
    "Use the next code cell to print the first five rows of the data."
   ]
  },
  {
   "cell_type": "code",
   "execution_count": 3,
   "id": "e0dc1777",
   "metadata": {
    "execution": {
     "iopub.execute_input": "2022-02-07T17:57:17.229056Z",
     "iopub.status.busy": "2022-02-07T17:57:17.228083Z",
     "iopub.status.idle": "2022-02-07T17:57:17.246028Z",
     "shell.execute_reply": "2022-02-07T17:57:17.246426Z",
     "shell.execute_reply.started": "2022-02-07T17:36:08.262294Z"
    },
    "papermill": {
     "duration": 0.051005,
     "end_time": "2022-02-07T17:57:17.246553",
     "exception": false,
     "start_time": "2022-02-07T17:57:17.195548",
     "status": "completed"
    },
    "tags": []
   },
   "outputs": [
    {
     "data": {
      "text/html": [
       "<div>\n",
       "<style scoped>\n",
       "    .dataframe tbody tr th:only-of-type {\n",
       "        vertical-align: middle;\n",
       "    }\n",
       "\n",
       "    .dataframe tbody tr th {\n",
       "        vertical-align: top;\n",
       "    }\n",
       "\n",
       "    .dataframe thead th {\n",
       "        text-align: right;\n",
       "    }\n",
       "</style>\n",
       "<table border=\"1\" class=\"dataframe\">\n",
       "  <thead>\n",
       "    <tr style=\"text-align: right;\">\n",
       "      <th></th>\n",
       "      <th>MSSubClass</th>\n",
       "      <th>MSZoning</th>\n",
       "      <th>LotArea</th>\n",
       "      <th>Street</th>\n",
       "      <th>LotShape</th>\n",
       "      <th>LandContour</th>\n",
       "      <th>Utilities</th>\n",
       "      <th>LotConfig</th>\n",
       "      <th>LandSlope</th>\n",
       "      <th>Neighborhood</th>\n",
       "      <th>...</th>\n",
       "      <th>OpenPorchSF</th>\n",
       "      <th>EnclosedPorch</th>\n",
       "      <th>3SsnPorch</th>\n",
       "      <th>ScreenPorch</th>\n",
       "      <th>PoolArea</th>\n",
       "      <th>MiscVal</th>\n",
       "      <th>MoSold</th>\n",
       "      <th>YrSold</th>\n",
       "      <th>SaleType</th>\n",
       "      <th>SaleCondition</th>\n",
       "    </tr>\n",
       "    <tr>\n",
       "      <th>Id</th>\n",
       "      <th></th>\n",
       "      <th></th>\n",
       "      <th></th>\n",
       "      <th></th>\n",
       "      <th></th>\n",
       "      <th></th>\n",
       "      <th></th>\n",
       "      <th></th>\n",
       "      <th></th>\n",
       "      <th></th>\n",
       "      <th></th>\n",
       "      <th></th>\n",
       "      <th></th>\n",
       "      <th></th>\n",
       "      <th></th>\n",
       "      <th></th>\n",
       "      <th></th>\n",
       "      <th></th>\n",
       "      <th></th>\n",
       "      <th></th>\n",
       "      <th></th>\n",
       "    </tr>\n",
       "  </thead>\n",
       "  <tbody>\n",
       "    <tr>\n",
       "      <th>619</th>\n",
       "      <td>20</td>\n",
       "      <td>RL</td>\n",
       "      <td>11694</td>\n",
       "      <td>Pave</td>\n",
       "      <td>Reg</td>\n",
       "      <td>Lvl</td>\n",
       "      <td>AllPub</td>\n",
       "      <td>Inside</td>\n",
       "      <td>Gtl</td>\n",
       "      <td>NridgHt</td>\n",
       "      <td>...</td>\n",
       "      <td>108</td>\n",
       "      <td>0</td>\n",
       "      <td>0</td>\n",
       "      <td>260</td>\n",
       "      <td>0</td>\n",
       "      <td>0</td>\n",
       "      <td>7</td>\n",
       "      <td>2007</td>\n",
       "      <td>New</td>\n",
       "      <td>Partial</td>\n",
       "    </tr>\n",
       "    <tr>\n",
       "      <th>871</th>\n",
       "      <td>20</td>\n",
       "      <td>RL</td>\n",
       "      <td>6600</td>\n",
       "      <td>Pave</td>\n",
       "      <td>Reg</td>\n",
       "      <td>Lvl</td>\n",
       "      <td>AllPub</td>\n",
       "      <td>Inside</td>\n",
       "      <td>Gtl</td>\n",
       "      <td>NAmes</td>\n",
       "      <td>...</td>\n",
       "      <td>0</td>\n",
       "      <td>0</td>\n",
       "      <td>0</td>\n",
       "      <td>0</td>\n",
       "      <td>0</td>\n",
       "      <td>0</td>\n",
       "      <td>8</td>\n",
       "      <td>2009</td>\n",
       "      <td>WD</td>\n",
       "      <td>Normal</td>\n",
       "    </tr>\n",
       "    <tr>\n",
       "      <th>93</th>\n",
       "      <td>30</td>\n",
       "      <td>RL</td>\n",
       "      <td>13360</td>\n",
       "      <td>Pave</td>\n",
       "      <td>IR1</td>\n",
       "      <td>HLS</td>\n",
       "      <td>AllPub</td>\n",
       "      <td>Inside</td>\n",
       "      <td>Gtl</td>\n",
       "      <td>Crawfor</td>\n",
       "      <td>...</td>\n",
       "      <td>0</td>\n",
       "      <td>44</td>\n",
       "      <td>0</td>\n",
       "      <td>0</td>\n",
       "      <td>0</td>\n",
       "      <td>0</td>\n",
       "      <td>8</td>\n",
       "      <td>2009</td>\n",
       "      <td>WD</td>\n",
       "      <td>Normal</td>\n",
       "    </tr>\n",
       "    <tr>\n",
       "      <th>818</th>\n",
       "      <td>20</td>\n",
       "      <td>RL</td>\n",
       "      <td>13265</td>\n",
       "      <td>Pave</td>\n",
       "      <td>IR1</td>\n",
       "      <td>Lvl</td>\n",
       "      <td>AllPub</td>\n",
       "      <td>CulDSac</td>\n",
       "      <td>Gtl</td>\n",
       "      <td>Mitchel</td>\n",
       "      <td>...</td>\n",
       "      <td>59</td>\n",
       "      <td>0</td>\n",
       "      <td>0</td>\n",
       "      <td>0</td>\n",
       "      <td>0</td>\n",
       "      <td>0</td>\n",
       "      <td>7</td>\n",
       "      <td>2008</td>\n",
       "      <td>WD</td>\n",
       "      <td>Normal</td>\n",
       "    </tr>\n",
       "    <tr>\n",
       "      <th>303</th>\n",
       "      <td>20</td>\n",
       "      <td>RL</td>\n",
       "      <td>13704</td>\n",
       "      <td>Pave</td>\n",
       "      <td>IR1</td>\n",
       "      <td>Lvl</td>\n",
       "      <td>AllPub</td>\n",
       "      <td>Corner</td>\n",
       "      <td>Gtl</td>\n",
       "      <td>CollgCr</td>\n",
       "      <td>...</td>\n",
       "      <td>81</td>\n",
       "      <td>0</td>\n",
       "      <td>0</td>\n",
       "      <td>0</td>\n",
       "      <td>0</td>\n",
       "      <td>0</td>\n",
       "      <td>1</td>\n",
       "      <td>2006</td>\n",
       "      <td>WD</td>\n",
       "      <td>Normal</td>\n",
       "    </tr>\n",
       "  </tbody>\n",
       "</table>\n",
       "<p>5 rows × 60 columns</p>\n",
       "</div>"
      ],
      "text/plain": [
       "     MSSubClass MSZoning  LotArea Street LotShape LandContour Utilities  \\\n",
       "Id                                                                        \n",
       "619          20       RL    11694   Pave      Reg         Lvl    AllPub   \n",
       "871          20       RL     6600   Pave      Reg         Lvl    AllPub   \n",
       "93           30       RL    13360   Pave      IR1         HLS    AllPub   \n",
       "818          20       RL    13265   Pave      IR1         Lvl    AllPub   \n",
       "303          20       RL    13704   Pave      IR1         Lvl    AllPub   \n",
       "\n",
       "    LotConfig LandSlope Neighborhood  ... OpenPorchSF EnclosedPorch 3SsnPorch  \\\n",
       "Id                                    ...                                       \n",
       "619    Inside       Gtl      NridgHt  ...         108             0         0   \n",
       "871    Inside       Gtl        NAmes  ...           0             0         0   \n",
       "93     Inside       Gtl      Crawfor  ...           0            44         0   \n",
       "818   CulDSac       Gtl      Mitchel  ...          59             0         0   \n",
       "303    Corner       Gtl      CollgCr  ...          81             0         0   \n",
       "\n",
       "    ScreenPorch  PoolArea  MiscVal  MoSold  YrSold SaleType SaleCondition  \n",
       "Id                                                                         \n",
       "619         260         0        0       7    2007      New       Partial  \n",
       "871           0         0        0       8    2009       WD        Normal  \n",
       "93            0         0        0       8    2009       WD        Normal  \n",
       "818           0         0        0       7    2008       WD        Normal  \n",
       "303           0         0        0       1    2006       WD        Normal  \n",
       "\n",
       "[5 rows x 60 columns]"
      ]
     },
     "execution_count": 3,
     "metadata": {},
     "output_type": "execute_result"
    }
   ],
   "source": [
    "X_train.head()"
   ]
  },
  {
   "cell_type": "markdown",
   "id": "ae8fe126",
   "metadata": {
    "papermill": {
     "duration": 0.025604,
     "end_time": "2022-02-07T17:57:17.297734",
     "exception": false,
     "start_time": "2022-02-07T17:57:17.272130",
     "status": "completed"
    },
    "tags": []
   },
   "source": [
    "Notice that the dataset contains both numerical and categorical variables.  You'll need to encode the categorical data before training a model.\n",
    "\n",
    "To compare different models, you'll use the same `score_dataset()` function from the tutorial.  This function reports the [mean absolute error](https://en.wikipedia.org/wiki/Mean_absolute_error) (MAE) from a random forest model."
   ]
  },
  {
   "cell_type": "code",
   "execution_count": 4,
   "id": "a652bf3a",
   "metadata": {
    "execution": {
     "iopub.execute_input": "2022-02-07T17:57:17.353759Z",
     "iopub.status.busy": "2022-02-07T17:57:17.353189Z",
     "iopub.status.idle": "2022-02-07T17:57:17.500432Z",
     "shell.execute_reply": "2022-02-07T17:57:17.499959Z",
     "shell.execute_reply.started": "2022-02-07T17:36:09.478378Z"
    },
    "papermill": {
     "duration": 0.17732,
     "end_time": "2022-02-07T17:57:17.500547",
     "exception": false,
     "start_time": "2022-02-07T17:57:17.323227",
     "status": "completed"
    },
    "tags": []
   },
   "outputs": [],
   "source": [
    "from sklearn.ensemble import RandomForestRegressor\n",
    "from sklearn.metrics import mean_absolute_error\n",
    "\n",
    "# function for comparing different approaches\n",
    "def score_dataset(X_train, X_valid, y_train, y_valid):\n",
    "    model = RandomForestRegressor(n_estimators=100, random_state=0)\n",
    "    model.fit(X_train, y_train)\n",
    "    preds = model.predict(X_valid)\n",
    "    return mean_absolute_error(y_valid, preds)"
   ]
  },
  {
   "cell_type": "markdown",
   "id": "f3fc88d5",
   "metadata": {
    "papermill": {
     "duration": 0.043185,
     "end_time": "2022-02-07T17:57:17.569792",
     "exception": false,
     "start_time": "2022-02-07T17:57:17.526607",
     "status": "completed"
    },
    "tags": []
   },
   "source": [
    "# Step 1: Drop columns with categorical data\n",
    "\n",
    "You'll get started with the most straightforward approach.  Use the code cell below to preprocess the data in `X_train` and `X_valid` to remove columns with categorical data.  Set the preprocessed DataFrames to `drop_X_train` and `drop_X_valid`, respectively.  "
   ]
  },
  {
   "cell_type": "code",
   "execution_count": 5,
   "id": "b681ca74",
   "metadata": {
    "execution": {
     "iopub.execute_input": "2022-02-07T17:57:17.667794Z",
     "iopub.status.busy": "2022-02-07T17:57:17.666905Z",
     "iopub.status.idle": "2022-02-07T17:57:17.671253Z",
     "shell.execute_reply": "2022-02-07T17:57:17.671676Z",
     "shell.execute_reply.started": "2022-02-07T17:36:16.780601Z"
    },
    "papermill": {
     "duration": 0.056404,
     "end_time": "2022-02-07T17:57:17.671811",
     "exception": false,
     "start_time": "2022-02-07T17:57:17.615407",
     "status": "completed"
    },
    "tags": []
   },
   "outputs": [
    {
     "data": {
      "application/javascript": [
       "parent.postMessage({\"jupyterEvent\": \"custom.exercise_interaction\", \"data\": {\"outcomeType\": 1, \"valueTowardsCompletion\": 0.5, \"interactionType\": 1, \"questionType\": 2, \"questionId\": \"1_Drop\", \"learnToolsVersion\": \"0.3.4\", \"failureMessage\": \"\", \"exceptionClass\": \"\", \"trace\": \"\"}}, \"*\")"
      ],
      "text/plain": [
       "<IPython.core.display.Javascript object>"
      ]
     },
     "metadata": {},
     "output_type": "display_data"
    },
    {
     "data": {
      "text/markdown": [
       "<span style=\"color:#33cc33\">Correct</span>"
      ],
      "text/plain": [
       "Correct"
      ]
     },
     "metadata": {},
     "output_type": "display_data"
    }
   ],
   "source": [
    "# Fill in the lines below: drop columns in training and validation data\n",
    "drop_X_train = X_train.select_dtypes(exclude='object')\n",
    "drop_X_valid = X_valid.select_dtypes(exclude='object')\n",
    "\n",
    "# Check your answers\n",
    "step_1.check()"
   ]
  },
  {
   "cell_type": "code",
   "execution_count": 6,
   "id": "4b7a9da3",
   "metadata": {
    "execution": {
     "iopub.execute_input": "2022-02-07T17:57:17.729993Z",
     "iopub.status.busy": "2022-02-07T17:57:17.729065Z",
     "iopub.status.idle": "2022-02-07T17:57:17.736456Z",
     "shell.execute_reply": "2022-02-07T17:57:17.736826Z",
     "shell.execute_reply.started": "2022-02-07T17:36:18.466123Z"
    },
    "papermill": {
     "duration": 0.037711,
     "end_time": "2022-02-07T17:57:17.736975",
     "exception": false,
     "start_time": "2022-02-07T17:57:17.699264",
     "status": "completed"
    },
    "tags": []
   },
   "outputs": [
    {
     "data": {
      "application/javascript": [
       "parent.postMessage({\"jupyterEvent\": \"custom.exercise_interaction\", \"data\": {\"interactionType\": 2, \"questionType\": 2, \"questionId\": \"1_Drop\", \"learnToolsVersion\": \"0.3.4\", \"valueTowardsCompletion\": 0.0, \"failureMessage\": \"\", \"exceptionClass\": \"\", \"trace\": \"\", \"outcomeType\": 4}}, \"*\")"
      ],
      "text/plain": [
       "<IPython.core.display.Javascript object>"
      ]
     },
     "metadata": {},
     "output_type": "display_data"
    },
    {
     "data": {
      "text/markdown": [
       "<span style=\"color:#3366cc\">Hint:</span> Use the [`select_dtypes()`](https://pandas.pydata.org/pandas-docs/stable/reference/api/pandas.DataFrame.select_dtypes.html) method to drop all columns with the `object` dtype."
      ],
      "text/plain": [
       "Hint: Use the [`select_dtypes()`](https://pandas.pydata.org/pandas-docs/stable/reference/api/pandas.DataFrame.select_dtypes.html) method to drop all columns with the `object` dtype."
      ]
     },
     "metadata": {},
     "output_type": "display_data"
    },
    {
     "data": {
      "application/javascript": [
       "parent.postMessage({\"jupyterEvent\": \"custom.exercise_interaction\", \"data\": {\"interactionType\": 3, \"questionType\": 2, \"questionId\": \"1_Drop\", \"learnToolsVersion\": \"0.3.4\", \"valueTowardsCompletion\": 0.0, \"failureMessage\": \"\", \"exceptionClass\": \"\", \"trace\": \"\", \"outcomeType\": 4}}, \"*\")"
      ],
      "text/plain": [
       "<IPython.core.display.Javascript object>"
      ]
     },
     "metadata": {},
     "output_type": "display_data"
    },
    {
     "data": {
      "text/markdown": [
       "<span style=\"color:#33cc99\">Solution:</span> \n",
       "```python\n",
       "# Drop columns in training and validation data\n",
       "drop_X_train = X_train.select_dtypes(exclude=['object'])\n",
       "drop_X_valid = X_valid.select_dtypes(exclude=['object'])\n",
       "\n",
       "```"
      ],
      "text/plain": [
       "Solution: \n",
       "```python\n",
       "# Drop columns in training and validation data\n",
       "drop_X_train = X_train.select_dtypes(exclude=['object'])\n",
       "drop_X_valid = X_valid.select_dtypes(exclude=['object'])\n",
       "\n",
       "```"
      ]
     },
     "metadata": {},
     "output_type": "display_data"
    }
   ],
   "source": [
    "# Lines below will give you a hint or solution code\n",
    "step_1.hint()\n",
    "step_1.solution()"
   ]
  },
  {
   "cell_type": "markdown",
   "id": "48281a1d",
   "metadata": {
    "papermill": {
     "duration": 0.02775,
     "end_time": "2022-02-07T17:57:17.792713",
     "exception": false,
     "start_time": "2022-02-07T17:57:17.764963",
     "status": "completed"
    },
    "tags": []
   },
   "source": [
    "Run the next code cell to get the MAE for this approach."
   ]
  },
  {
   "cell_type": "code",
   "execution_count": 7,
   "id": "896cc7d1",
   "metadata": {
    "execution": {
     "iopub.execute_input": "2022-02-07T17:57:17.854655Z",
     "iopub.status.busy": "2022-02-07T17:57:17.853917Z",
     "iopub.status.idle": "2022-02-07T17:57:18.878662Z",
     "shell.execute_reply": "2022-02-07T17:57:18.878228Z",
     "shell.execute_reply.started": "2022-02-07T17:36:20.554223Z"
    },
    "papermill": {
     "duration": 1.057655,
     "end_time": "2022-02-07T17:57:18.878785",
     "exception": false,
     "start_time": "2022-02-07T17:57:17.821130",
     "status": "completed"
    },
    "tags": []
   },
   "outputs": [
    {
     "name": "stdout",
     "output_type": "stream",
     "text": [
      "MAE from Approach 1 (Drop categorical variables):\n",
      "17837.82570776256\n"
     ]
    }
   ],
   "source": [
    "print(\"MAE from Approach 1 (Drop categorical variables):\")\n",
    "print(score_dataset(drop_X_train, drop_X_valid, y_train, y_valid))"
   ]
  },
  {
   "cell_type": "markdown",
   "id": "a3d5dc2e",
   "metadata": {
    "papermill": {
     "duration": 0.029103,
     "end_time": "2022-02-07T17:57:18.936788",
     "exception": false,
     "start_time": "2022-02-07T17:57:18.907685",
     "status": "completed"
    },
    "tags": []
   },
   "source": [
    "Before jumping into ordinal encoding, we'll investigate the dataset.  Specifically, we'll look at the `'Condition2'` column.  The code cell below prints the unique entries in both the training and validation sets."
   ]
  },
  {
   "cell_type": "code",
   "execution_count": 8,
   "id": "4dd3edc6",
   "metadata": {
    "execution": {
     "iopub.execute_input": "2022-02-07T17:57:18.999680Z",
     "iopub.status.busy": "2022-02-07T17:57:18.998799Z",
     "iopub.status.idle": "2022-02-07T17:57:19.002638Z",
     "shell.execute_reply": "2022-02-07T17:57:19.002247Z",
     "shell.execute_reply.started": "2022-02-07T17:36:31.105928Z"
    },
    "papermill": {
     "duration": 0.03732,
     "end_time": "2022-02-07T17:57:19.002745",
     "exception": false,
     "start_time": "2022-02-07T17:57:18.965425",
     "status": "completed"
    },
    "tags": []
   },
   "outputs": [
    {
     "name": "stdout",
     "output_type": "stream",
     "text": [
      "Unique values in 'Condition2' column in training data: ['Norm' 'PosA' 'Feedr' 'PosN' 'Artery' 'RRAe']\n",
      "\n",
      "Unique values in 'Condition2' column in validation data: ['Norm' 'RRAn' 'RRNn' 'Artery' 'Feedr' 'PosN']\n"
     ]
    }
   ],
   "source": [
    "print(\"Unique values in 'Condition2' column in training data:\", X_train['Condition2'].unique())\n",
    "print(\"\\nUnique values in 'Condition2' column in validation data:\", X_valid['Condition2'].unique())"
   ]
  },
  {
   "cell_type": "markdown",
   "id": "85154556",
   "metadata": {
    "papermill": {
     "duration": 0.028955,
     "end_time": "2022-02-07T17:57:19.060520",
     "exception": false,
     "start_time": "2022-02-07T17:57:19.031565",
     "status": "completed"
    },
    "tags": []
   },
   "source": [
    "# Step 2: Ordinal encoding\n",
    "\n",
    "### Part A\n",
    "\n",
    "If you now write code to: \n",
    "- fit an ordinal encoder to the training data, and then \n",
    "- use it to transform both the training and validation data, \n",
    "\n",
    "you'll get an error.  Can you see why this is the case?  (_You'll need  to use the above output to answer this question._)"
   ]
  },
  {
   "cell_type": "markdown",
   "id": "f19ae666",
   "metadata": {
    "papermill": {
     "duration": 0.035311,
     "end_time": "2022-02-07T17:57:19.125141",
     "exception": false,
     "start_time": "2022-02-07T17:57:19.089830",
     "status": "completed"
    },
    "tags": []
   },
   "source": [
    "We will be fitting ordinal based on the values in `X_train` but those are not exhaustive. `X_valid` contains new values for condition 2! "
   ]
  },
  {
   "cell_type": "code",
   "execution_count": 9,
   "id": "cf7f3270",
   "metadata": {
    "execution": {
     "iopub.execute_input": "2022-02-07T17:57:19.243799Z",
     "iopub.status.busy": "2022-02-07T17:57:19.242990Z",
     "iopub.status.idle": "2022-02-07T17:57:19.249422Z",
     "shell.execute_reply": "2022-02-07T17:57:19.248993Z",
     "shell.execute_reply.started": "2022-02-07T17:36:34.892036Z"
    },
    "papermill": {
     "duration": 0.067259,
     "end_time": "2022-02-07T17:57:19.249529",
     "exception": false,
     "start_time": "2022-02-07T17:57:19.182270",
     "status": "completed"
    },
    "tags": []
   },
   "outputs": [
    {
     "data": {
      "application/javascript": [
       "parent.postMessage({\"jupyterEvent\": \"custom.exercise_interaction\", \"data\": {\"outcomeType\": 1, \"valueTowardsCompletion\": 0.5, \"interactionType\": 1, \"questionType\": 4, \"questionId\": \"2.1_LabelA\", \"learnToolsVersion\": \"0.3.4\", \"failureMessage\": \"\", \"exceptionClass\": \"\", \"trace\": \"\"}}, \"*\")"
      ],
      "text/plain": [
       "<IPython.core.display.Javascript object>"
      ]
     },
     "metadata": {},
     "output_type": "display_data"
    },
    {
     "data": {
      "text/markdown": [
       "<span style=\"color:#33cc33\">Correct:</span> \n",
       "\n",
       "Fitting an ordinal encoder to a column in the training data creates a corresponding integer-valued label for each unique value **that appears in the training data**. In the case that the validation data contains values that don't also appear in the training data, the encoder will throw an error, because these values won't have an integer assigned to them.  Notice that the `'Condition2'` column in the validation data contains the values `'RRAn'` and `'RRNn'`, but these don't appear in the training data -- thus, if we try to use an ordinal encoder with scikit-learn, the code will throw an error."
      ],
      "text/plain": [
       "Correct: \n",
       "\n",
       "Fitting an ordinal encoder to a column in the training data creates a corresponding integer-valued label for each unique value **that appears in the training data**. In the case that the validation data contains values that don't also appear in the training data, the encoder will throw an error, because these values won't have an integer assigned to them.  Notice that the `'Condition2'` column in the validation data contains the values `'RRAn'` and `'RRNn'`, but these don't appear in the training data -- thus, if we try to use an ordinal encoder with scikit-learn, the code will throw an error."
      ]
     },
     "metadata": {},
     "output_type": "display_data"
    }
   ],
   "source": [
    "# Check your answer (Run this code cell to receive credit!)\n",
    "step_2.a.check()"
   ]
  },
  {
   "cell_type": "code",
   "execution_count": 10,
   "id": "c4d3202b",
   "metadata": {
    "execution": {
     "iopub.execute_input": "2022-02-07T17:57:19.369469Z",
     "iopub.status.busy": "2022-02-07T17:57:19.368698Z",
     "iopub.status.idle": "2022-02-07T17:57:19.371209Z",
     "shell.execute_reply": "2022-02-07T17:57:19.371799Z",
     "shell.execute_reply.started": "2022-02-07T17:36:36.867421Z"
    },
    "papermill": {
     "duration": 0.071408,
     "end_time": "2022-02-07T17:57:19.371990",
     "exception": false,
     "start_time": "2022-02-07T17:57:19.300582",
     "status": "completed"
    },
    "tags": []
   },
   "outputs": [],
   "source": [
    "#step_2.a.hint()"
   ]
  },
  {
   "cell_type": "markdown",
   "id": "c59a9173",
   "metadata": {
    "papermill": {
     "duration": 0.04993,
     "end_time": "2022-02-07T17:57:19.472277",
     "exception": false,
     "start_time": "2022-02-07T17:57:19.422347",
     "status": "completed"
    },
    "tags": []
   },
   "source": [
    "This is a common problem that you'll encounter with real-world data, and there are many approaches to fixing this issue.  For instance, you can write a custom ordinal encoder to deal with new categories.  The simplest approach, however, is to drop the problematic categorical columns.  \n",
    "\n",
    "Run the code cell below to save the problematic columns to a Python list `bad_label_cols`.  Likewise, columns that can be safely ordinal encoded are stored in `good_label_cols`."
   ]
  },
  {
   "cell_type": "code",
   "execution_count": 11,
   "id": "321ad892",
   "metadata": {
    "execution": {
     "iopub.execute_input": "2022-02-07T17:57:19.581203Z",
     "iopub.status.busy": "2022-02-07T17:57:19.580447Z",
     "iopub.status.idle": "2022-02-07T17:57:19.594514Z",
     "shell.execute_reply": "2022-02-07T17:57:19.595648Z",
     "shell.execute_reply.started": "2022-02-07T17:36:41.155776Z"
    },
    "papermill": {
     "duration": 0.074064,
     "end_time": "2022-02-07T17:57:19.595829",
     "exception": false,
     "start_time": "2022-02-07T17:57:19.521765",
     "status": "completed"
    },
    "tags": []
   },
   "outputs": [
    {
     "name": "stdout",
     "output_type": "stream",
     "text": [
      "Categorical columns that will be ordinal encoded: ['MSZoning', 'Street', 'LotShape', 'LandContour', 'Utilities', 'LotConfig', 'LandSlope', 'Neighborhood', 'Condition1', 'BldgType', 'HouseStyle', 'RoofStyle', 'Exterior1st', 'Exterior2nd', 'ExterQual', 'ExterCond', 'Foundation', 'Heating', 'HeatingQC', 'CentralAir', 'KitchenQual', 'PavedDrive', 'SaleType', 'SaleCondition']\n",
      "\n",
      "Categorical columns that will be dropped from the dataset: ['RoofMatl', 'Functional', 'Condition2']\n"
     ]
    }
   ],
   "source": [
    "# Categorical columns in the training data\n",
    "object_cols = [col for col in X_train.columns if X_train[col].dtype == \"object\"]\n",
    "\n",
    "# Columns that can be safely ordinal encoded\n",
    "good_label_cols = [col for col in object_cols if \n",
    "                   set(X_valid[col]).issubset(set(X_train[col]))]\n",
    "        \n",
    "# Problematic columns that will be dropped from the dataset\n",
    "bad_label_cols = list(set(object_cols)-set(good_label_cols))\n",
    "        \n",
    "print('Categorical columns that will be ordinal encoded:', good_label_cols)\n",
    "print('\\nCategorical columns that will be dropped from the dataset:', bad_label_cols)"
   ]
  },
  {
   "cell_type": "markdown",
   "id": "4b7c49a2",
   "metadata": {
    "papermill": {
     "duration": 0.055788,
     "end_time": "2022-02-07T17:57:19.708294",
     "exception": false,
     "start_time": "2022-02-07T17:57:19.652506",
     "status": "completed"
    },
    "tags": []
   },
   "source": [
    "### Part B\n",
    "\n",
    "Use the next code cell to ordinal encode the data in `X_train` and `X_valid`.  Set the preprocessed DataFrames to `label_X_train` and `label_X_valid`, respectively.  \n",
    "- We have provided code below to drop the categorical columns in `bad_label_cols` from the dataset. \n",
    "- You should ordinal encode the categorical columns in `good_label_cols`.  "
   ]
  },
  {
   "cell_type": "code",
   "execution_count": 12,
   "id": "684d2211",
   "metadata": {
    "execution": {
     "iopub.execute_input": "2022-02-07T17:57:19.811720Z",
     "iopub.status.busy": "2022-02-07T17:57:19.799928Z",
     "iopub.status.idle": "2022-02-07T17:57:19.842393Z",
     "shell.execute_reply": "2022-02-07T17:57:19.841958Z",
     "shell.execute_reply.started": "2022-02-07T17:36:47.781851Z"
    },
    "papermill": {
     "duration": 0.085436,
     "end_time": "2022-02-07T17:57:19.842497",
     "exception": false,
     "start_time": "2022-02-07T17:57:19.757061",
     "status": "completed"
    },
    "tags": []
   },
   "outputs": [
    {
     "data": {
      "application/javascript": [
       "parent.postMessage({\"jupyterEvent\": \"custom.exercise_interaction\", \"data\": {\"outcomeType\": 1, \"valueTowardsCompletion\": 0.5, \"interactionType\": 1, \"questionType\": 2, \"questionId\": \"2.2_LabelB\", \"learnToolsVersion\": \"0.3.4\", \"failureMessage\": \"\", \"exceptionClass\": \"\", \"trace\": \"\"}}, \"*\")"
      ],
      "text/plain": [
       "<IPython.core.display.Javascript object>"
      ]
     },
     "metadata": {},
     "output_type": "display_data"
    },
    {
     "data": {
      "text/markdown": [
       "<span style=\"color:#33cc33\">Correct</span>"
      ],
      "text/plain": [
       "Correct"
      ]
     },
     "metadata": {},
     "output_type": "display_data"
    }
   ],
   "source": [
    "from sklearn.preprocessing import OrdinalEncoder\n",
    "\n",
    "# Drop categorical columns that will not be encoded\n",
    "label_X_train = X_train.drop(bad_label_cols, axis=1)\n",
    "label_X_valid = X_valid.drop(bad_label_cols, axis=1)\n",
    "\n",
    "# Apply ordinal encoder \n",
    "ord_encoder = OrdinalEncoder()\n",
    "label_X_train[good_label_cols] = (ord_encoder.fit_transform(label_X_train[good_label_cols]))\n",
    "label_X_valid[good_label_cols] = (ord_encoder.transform(label_X_valid[good_label_cols]))\n",
    "# Your code here\n",
    "    \n",
    "# Check your answer\n",
    "step_2.b.check()"
   ]
  },
  {
   "cell_type": "code",
   "execution_count": 13,
   "id": "0956a1cc",
   "metadata": {
    "execution": {
     "iopub.execute_input": "2022-02-07T17:57:19.918149Z",
     "iopub.status.busy": "2022-02-07T17:57:19.915664Z",
     "iopub.status.idle": "2022-02-07T17:57:19.927210Z",
     "shell.execute_reply": "2022-02-07T17:57:19.927769Z",
     "shell.execute_reply.started": "2022-02-07T17:36:48.331045Z"
    },
    "papermill": {
     "duration": 0.050552,
     "end_time": "2022-02-07T17:57:19.927976",
     "exception": false,
     "start_time": "2022-02-07T17:57:19.877424",
     "status": "completed"
    },
    "tags": []
   },
   "outputs": [
    {
     "data": {
      "application/javascript": [
       "parent.postMessage({\"jupyterEvent\": \"custom.exercise_interaction\", \"data\": {\"interactionType\": 2, \"questionType\": 2, \"questionId\": \"2.2_LabelB\", \"learnToolsVersion\": \"0.3.4\", \"valueTowardsCompletion\": 0.0, \"failureMessage\": \"\", \"exceptionClass\": \"\", \"trace\": \"\", \"outcomeType\": 4}}, \"*\")"
      ],
      "text/plain": [
       "<IPython.core.display.Javascript object>"
      ]
     },
     "metadata": {},
     "output_type": "display_data"
    },
    {
     "data": {
      "text/markdown": [
       "<span style=\"color:#3366cc\">Hint:</span> Use the `OrdinalEncoder` class from scikit-learn. You should only encode the columns in `good_label_cols`."
      ],
      "text/plain": [
       "Hint: Use the `OrdinalEncoder` class from scikit-learn. You should only encode the columns in `good_label_cols`."
      ]
     },
     "metadata": {},
     "output_type": "display_data"
    },
    {
     "data": {
      "application/javascript": [
       "parent.postMessage({\"jupyterEvent\": \"custom.exercise_interaction\", \"data\": {\"interactionType\": 3, \"questionType\": 2, \"questionId\": \"2.2_LabelB\", \"learnToolsVersion\": \"0.3.4\", \"valueTowardsCompletion\": 0.0, \"failureMessage\": \"\", \"exceptionClass\": \"\", \"trace\": \"\", \"outcomeType\": 4}}, \"*\")"
      ],
      "text/plain": [
       "<IPython.core.display.Javascript object>"
      ]
     },
     "metadata": {},
     "output_type": "display_data"
    },
    {
     "data": {
      "text/markdown": [
       "<span style=\"color:#33cc99\">Solution:</span> \n",
       "```python\n",
       "# Drop categorical columns that will not be encoded\n",
       "label_X_train = X_train.drop(bad_label_cols, axis=1)\n",
       "label_X_valid = X_valid.drop(bad_label_cols, axis=1)\n",
       "\n",
       "# Apply ordinal encoder\n",
       "ordinal_encoder = OrdinalEncoder()\n",
       "label_X_train[good_label_cols] = ordinal_encoder.fit_transform(X_train[good_label_cols])\n",
       "label_X_valid[good_label_cols] = ordinal_encoder.transform(X_valid[good_label_cols])\n",
       "\n",
       "```"
      ],
      "text/plain": [
       "Solution: \n",
       "```python\n",
       "# Drop categorical columns that will not be encoded\n",
       "label_X_train = X_train.drop(bad_label_cols, axis=1)\n",
       "label_X_valid = X_valid.drop(bad_label_cols, axis=1)\n",
       "\n",
       "# Apply ordinal encoder\n",
       "ordinal_encoder = OrdinalEncoder()\n",
       "label_X_train[good_label_cols] = ordinal_encoder.fit_transform(X_train[good_label_cols])\n",
       "label_X_valid[good_label_cols] = ordinal_encoder.transform(X_valid[good_label_cols])\n",
       "\n",
       "```"
      ]
     },
     "metadata": {},
     "output_type": "display_data"
    }
   ],
   "source": [
    "# Lines below will give you a hint or solution code\n",
    "step_2.b.hint()\n",
    "step_2.b.solution()"
   ]
  },
  {
   "cell_type": "markdown",
   "id": "8351ac55",
   "metadata": {
    "papermill": {
     "duration": 0.036674,
     "end_time": "2022-02-07T17:57:20.004503",
     "exception": false,
     "start_time": "2022-02-07T17:57:19.967829",
     "status": "completed"
    },
    "tags": []
   },
   "source": [
    "Run the next code cell to get the MAE for this approach."
   ]
  },
  {
   "cell_type": "code",
   "execution_count": 14,
   "id": "dcb527c7",
   "metadata": {
    "execution": {
     "iopub.execute_input": "2022-02-07T17:57:20.084257Z",
     "iopub.status.busy": "2022-02-07T17:57:20.081697Z",
     "iopub.status.idle": "2022-02-07T17:57:21.738985Z",
     "shell.execute_reply": "2022-02-07T17:57:21.739986Z",
     "shell.execute_reply.started": "2022-02-07T17:36:50.716662Z"
    },
    "papermill": {
     "duration": 1.699608,
     "end_time": "2022-02-07T17:57:21.740187",
     "exception": false,
     "start_time": "2022-02-07T17:57:20.040579",
     "status": "completed"
    },
    "tags": []
   },
   "outputs": [
    {
     "name": "stdout",
     "output_type": "stream",
     "text": [
      "MAE from Approach 2 (Ordinal Encoding):\n",
      "17098.01649543379\n"
     ]
    }
   ],
   "source": [
    "print(\"MAE from Approach 2 (Ordinal Encoding):\") \n",
    "print(score_dataset(label_X_train, label_X_valid, y_train, y_valid))"
   ]
  },
  {
   "cell_type": "markdown",
   "id": "fa0141f3",
   "metadata": {
    "papermill": {
     "duration": 0.032883,
     "end_time": "2022-02-07T17:57:21.807704",
     "exception": false,
     "start_time": "2022-02-07T17:57:21.774821",
     "status": "completed"
    },
    "tags": []
   },
   "source": [
    "So far, you've tried two different approaches to dealing with categorical variables.  And, you've seen that encoding categorical data yields better results than removing columns from the dataset.\n",
    "\n",
    "Soon, you'll try one-hot encoding.  Before then, there's one additional topic we need to cover.  Begin by running the next code cell without changes.  "
   ]
  },
  {
   "cell_type": "code",
   "execution_count": 15,
   "id": "3ad950ed",
   "metadata": {
    "execution": {
     "iopub.execute_input": "2022-02-07T17:57:21.880183Z",
     "iopub.status.busy": "2022-02-07T17:57:21.878729Z",
     "iopub.status.idle": "2022-02-07T17:57:21.889268Z",
     "shell.execute_reply": "2022-02-07T17:57:21.889649Z",
     "shell.execute_reply.started": "2022-02-07T17:36:55.704608Z"
    },
    "papermill": {
     "duration": 0.048899,
     "end_time": "2022-02-07T17:57:21.889779",
     "exception": false,
     "start_time": "2022-02-07T17:57:21.840880",
     "status": "completed"
    },
    "tags": []
   },
   "outputs": [
    {
     "data": {
      "text/plain": [
       "[('Street', 2),\n",
       " ('Utilities', 2),\n",
       " ('CentralAir', 2),\n",
       " ('LandSlope', 3),\n",
       " ('PavedDrive', 3),\n",
       " ('LotShape', 4),\n",
       " ('LandContour', 4),\n",
       " ('ExterQual', 4),\n",
       " ('KitchenQual', 4),\n",
       " ('MSZoning', 5),\n",
       " ('LotConfig', 5),\n",
       " ('BldgType', 5),\n",
       " ('ExterCond', 5),\n",
       " ('HeatingQC', 5),\n",
       " ('Condition2', 6),\n",
       " ('RoofStyle', 6),\n",
       " ('Foundation', 6),\n",
       " ('Heating', 6),\n",
       " ('Functional', 6),\n",
       " ('SaleCondition', 6),\n",
       " ('RoofMatl', 7),\n",
       " ('HouseStyle', 8),\n",
       " ('Condition1', 9),\n",
       " ('SaleType', 9),\n",
       " ('Exterior1st', 15),\n",
       " ('Exterior2nd', 16),\n",
       " ('Neighborhood', 25)]"
      ]
     },
     "execution_count": 15,
     "metadata": {},
     "output_type": "execute_result"
    }
   ],
   "source": [
    "# Get number of unique entries in each column with categorical data\n",
    "object_nunique = list(map(lambda col: X_train[col].nunique(), object_cols))\n",
    "d = dict(zip(object_cols, object_nunique))\n",
    "\n",
    "# Print number of unique entries by column, in ascending order\n",
    "sorted(d.items(), key=lambda x: x[1])"
   ]
  },
  {
   "cell_type": "markdown",
   "id": "8d4defeb",
   "metadata": {
    "papermill": {
     "duration": 0.03321,
     "end_time": "2022-02-07T17:57:21.956433",
     "exception": false,
     "start_time": "2022-02-07T17:57:21.923223",
     "status": "completed"
    },
    "tags": []
   },
   "source": [
    "# Step 3: Investigating cardinality\n",
    "\n",
    "### Part A\n",
    "\n",
    "The output above shows, for each column with categorical data, the number of unique values in the column.  For instance, the `'Street'` column in the training data has two unique values: `'Grvl'` and `'Pave'`, corresponding to a gravel road and a paved road, respectively.\n",
    "\n",
    "We refer to the number of unique entries of a categorical variable as the **cardinality** of that categorical variable.  For instance, the `'Street'` variable has cardinality 2.\n",
    "\n",
    "Use the output above to answer the questions below."
   ]
  },
  {
   "cell_type": "code",
   "execution_count": 16,
   "id": "a39d83b4",
   "metadata": {
    "execution": {
     "iopub.execute_input": "2022-02-07T17:57:22.032422Z",
     "iopub.status.busy": "2022-02-07T17:57:22.031551Z",
     "iopub.status.idle": "2022-02-07T17:57:22.037898Z",
     "shell.execute_reply": "2022-02-07T17:57:22.038462Z",
     "shell.execute_reply.started": "2022-02-07T17:43:31.918336Z"
    },
    "papermill": {
     "duration": 0.047142,
     "end_time": "2022-02-07T17:57:22.038607",
     "exception": false,
     "start_time": "2022-02-07T17:57:21.991465",
     "status": "completed"
    },
    "tags": []
   },
   "outputs": [
    {
     "name": "stdout",
     "output_type": "stream",
     "text": [
      "['Neighborhood', 'Exterior1st', 'Exterior2nd']\n",
      "25\n"
     ]
    },
    {
     "data": {
      "application/javascript": [
       "parent.postMessage({\"jupyterEvent\": \"custom.exercise_interaction\", \"data\": {\"outcomeType\": 1, \"valueTowardsCompletion\": 0.5, \"interactionType\": 1, \"questionType\": 1, \"questionId\": \"3.1_CardinalityA\", \"learnToolsVersion\": \"0.3.4\", \"failureMessage\": \"\", \"exceptionClass\": \"\", \"trace\": \"\"}}, \"*\")"
      ],
      "text/plain": [
       "<IPython.core.display.Javascript object>"
      ]
     },
     "metadata": {},
     "output_type": "display_data"
    },
    {
     "data": {
      "text/markdown": [
       "<span style=\"color:#33cc33\">Correct</span>"
      ],
      "text/plain": [
       "Correct"
      ]
     },
     "metadata": {},
     "output_type": "display_data"
    }
   ],
   "source": [
    "# Fill in the line below: How many categorical variables in the training data\n",
    "# have cardinality greater than 10?\n",
    "high_cardinality_cols = [key for key in d.keys() if d[key]>10]\n",
    "high_cardinality_numcols = len(high_cardinality_cols)\n",
    "\n",
    "print(high_cardinality_cols)\n",
    "# Fill in the line below: How many columns are needed to one-hot encode the \n",
    "# 'Neighborhood' variable in the training data?\n",
    "num_cols_neighborhood = d['Neighborhood']\n",
    "print(num_cols_neighborhood)\n",
    "\n",
    "# Check your answers\n",
    "step_3.a.check()"
   ]
  },
  {
   "cell_type": "code",
   "execution_count": 17,
   "id": "33c7febd",
   "metadata": {
    "execution": {
     "iopub.execute_input": "2022-02-07T17:57:22.111570Z",
     "iopub.status.busy": "2022-02-07T17:57:22.110809Z",
     "iopub.status.idle": "2022-02-07T17:57:22.113202Z",
     "shell.execute_reply": "2022-02-07T17:57:22.112770Z",
     "shell.execute_reply.started": "2022-02-07T17:43:48.714690Z"
    },
    "papermill": {
     "duration": 0.039772,
     "end_time": "2022-02-07T17:57:22.113319",
     "exception": false,
     "start_time": "2022-02-07T17:57:22.073547",
     "status": "completed"
    },
    "tags": []
   },
   "outputs": [],
   "source": [
    "# Lines below will give you a hint or solution code\n",
    "#step_3.a.hint()\n",
    "#step_3.a.solution()"
   ]
  },
  {
   "cell_type": "markdown",
   "id": "1348897f",
   "metadata": {
    "papermill": {
     "duration": 0.034237,
     "end_time": "2022-02-07T17:57:22.181882",
     "exception": false,
     "start_time": "2022-02-07T17:57:22.147645",
     "status": "completed"
    },
    "tags": []
   },
   "source": [
    "### Part B\n",
    "\n",
    "For large datasets with many rows, one-hot encoding can greatly expand the size of the dataset.  For this reason, we typically will only one-hot encode columns with relatively low cardinality.  Then, high cardinality columns can either be dropped from the dataset, or we can use ordinal encoding.\n",
    "\n",
    "As an example, consider a dataset with 10,000 rows, and containing one categorical column with 100 unique entries.  \n",
    "- If this column is replaced with the corresponding one-hot encoding, how many entries are added to the dataset?  \n",
    "- If we instead replace the column with the ordinal encoding, how many entries are added?  \n",
    "\n",
    "Use your answers to fill in the lines below."
   ]
  },
  {
   "cell_type": "code",
   "execution_count": 18,
   "id": "081573da",
   "metadata": {
    "execution": {
     "iopub.execute_input": "2022-02-07T17:57:22.255785Z",
     "iopub.status.busy": "2022-02-07T17:57:22.255011Z",
     "iopub.status.idle": "2022-02-07T17:57:22.258903Z",
     "shell.execute_reply": "2022-02-07T17:57:22.259340Z",
     "shell.execute_reply.started": "2022-02-07T17:45:27.625896Z"
    },
    "papermill": {
     "duration": 0.04333,
     "end_time": "2022-02-07T17:57:22.259454",
     "exception": false,
     "start_time": "2022-02-07T17:57:22.216124",
     "status": "completed"
    },
    "tags": []
   },
   "outputs": [
    {
     "data": {
      "application/javascript": [
       "parent.postMessage({\"jupyterEvent\": \"custom.exercise_interaction\", \"data\": {\"outcomeType\": 1, \"valueTowardsCompletion\": 0.5, \"interactionType\": 1, \"questionType\": 1, \"questionId\": \"3.2_CardinalityB\", \"learnToolsVersion\": \"0.3.4\", \"failureMessage\": \"\", \"exceptionClass\": \"\", \"trace\": \"\"}}, \"*\")"
      ],
      "text/plain": [
       "<IPython.core.display.Javascript object>"
      ]
     },
     "metadata": {},
     "output_type": "display_data"
    },
    {
     "data": {
      "text/markdown": [
       "<span style=\"color:#33cc33\">Correct</span>"
      ],
      "text/plain": [
       "Correct"
      ]
     },
     "metadata": {},
     "output_type": "display_data"
    }
   ],
   "source": [
    "# Fill in the line below: How many entries are added to the dataset by \n",
    "# replacing the column with a one-hot encoding?\n",
    "OH_entries_added = 99 * 10000\n",
    "\n",
    "# Fill in the line below: How many entries are added to the dataset by\n",
    "# replacing the column with an ordinal encoding?\n",
    "label_entries_added = 0\n",
    "\n",
    "# Check your answers\n",
    "step_3.b.check()"
   ]
  },
  {
   "cell_type": "code",
   "execution_count": 19,
   "id": "44f198e3",
   "metadata": {
    "execution": {
     "iopub.execute_input": "2022-02-07T17:57:22.332975Z",
     "iopub.status.busy": "2022-02-07T17:57:22.332362Z",
     "iopub.status.idle": "2022-02-07T17:57:22.334851Z",
     "shell.execute_reply": "2022-02-07T17:57:22.334467Z",
     "shell.execute_reply.started": "2022-02-07T17:45:34.453427Z"
    },
    "papermill": {
     "duration": 0.040539,
     "end_time": "2022-02-07T17:57:22.334982",
     "exception": false,
     "start_time": "2022-02-07T17:57:22.294443",
     "status": "completed"
    },
    "tags": []
   },
   "outputs": [],
   "source": [
    "# Lines below will give you a hint or solution code\n",
    "#step_3.b.hint()\n",
    "#step_3.b.solution()"
   ]
  },
  {
   "cell_type": "markdown",
   "id": "1e1153a0",
   "metadata": {
    "papermill": {
     "duration": 0.03477,
     "end_time": "2022-02-07T17:57:22.405437",
     "exception": false,
     "start_time": "2022-02-07T17:57:22.370667",
     "status": "completed"
    },
    "tags": []
   },
   "source": [
    "Next, you'll experiment with one-hot encoding.  But, instead of encoding all of the categorical variables in the dataset, you'll only create a one-hot encoding for columns with cardinality less than 10.\n",
    "\n",
    "Run the code cell below without changes to set `low_cardinality_cols` to a Python list containing the columns that will be one-hot encoded.  Likewise, `high_cardinality_cols` contains a list of categorical columns that will be dropped from the dataset."
   ]
  },
  {
   "cell_type": "code",
   "execution_count": 20,
   "id": "874c1a85",
   "metadata": {
    "execution": {
     "iopub.execute_input": "2022-02-07T17:57:22.481147Z",
     "iopub.status.busy": "2022-02-07T17:57:22.480354Z",
     "iopub.status.idle": "2022-02-07T17:57:22.488425Z",
     "shell.execute_reply": "2022-02-07T17:57:22.488855Z",
     "shell.execute_reply.started": "2022-02-07T17:45:51.892266Z"
    },
    "papermill": {
     "duration": 0.048267,
     "end_time": "2022-02-07T17:57:22.488994",
     "exception": false,
     "start_time": "2022-02-07T17:57:22.440727",
     "status": "completed"
    },
    "tags": []
   },
   "outputs": [
    {
     "name": "stdout",
     "output_type": "stream",
     "text": [
      "Categorical columns that will be one-hot encoded: ['MSZoning', 'Street', 'LotShape', 'LandContour', 'Utilities', 'LotConfig', 'LandSlope', 'Condition1', 'Condition2', 'BldgType', 'HouseStyle', 'RoofStyle', 'RoofMatl', 'ExterQual', 'ExterCond', 'Foundation', 'Heating', 'HeatingQC', 'CentralAir', 'KitchenQual', 'Functional', 'PavedDrive', 'SaleType', 'SaleCondition']\n",
      "\n",
      "Categorical columns that will be dropped from the dataset: ['Neighborhood', 'Exterior1st', 'Exterior2nd']\n"
     ]
    }
   ],
   "source": [
    "# Columns that will be one-hot encoded\n",
    "low_cardinality_cols = [col for col in object_cols if X_train[col].nunique() < 10]\n",
    "\n",
    "# Columns that will be dropped from the dataset\n",
    "high_cardinality_cols = list(set(object_cols)-set(low_cardinality_cols))\n",
    "\n",
    "print('Categorical columns that will be one-hot encoded:', low_cardinality_cols)\n",
    "print('\\nCategorical columns that will be dropped from the dataset:', high_cardinality_cols)"
   ]
  },
  {
   "cell_type": "markdown",
   "id": "4a0f7446",
   "metadata": {
    "papermill": {
     "duration": 0.035441,
     "end_time": "2022-02-07T17:57:22.560224",
     "exception": false,
     "start_time": "2022-02-07T17:57:22.524783",
     "status": "completed"
    },
    "tags": []
   },
   "source": [
    "# Step 4: One-hot encoding\n",
    "\n",
    "Use the next code cell to one-hot encode the data in `X_train` and `X_valid`.  Set the preprocessed DataFrames to `OH_X_train` and `OH_X_valid`, respectively.  \n",
    "- The full list of categorical columns in the dataset can be found in the Python list `object_cols`.\n",
    "- You should only one-hot encode the categorical columns in `low_cardinality_cols`.  All other categorical columns should be dropped from the dataset. "
   ]
  },
  {
   "cell_type": "code",
   "execution_count": 21,
   "id": "01b049cd",
   "metadata": {
    "execution": {
     "iopub.execute_input": "2022-02-07T17:57:22.638151Z",
     "iopub.status.busy": "2022-02-07T17:57:22.637369Z",
     "iopub.status.idle": "2022-02-07T17:57:22.667292Z",
     "shell.execute_reply": "2022-02-07T17:57:22.667650Z",
     "shell.execute_reply.started": "2022-02-07T17:55:55.115490Z"
    },
    "papermill": {
     "duration": 0.0721,
     "end_time": "2022-02-07T17:57:22.667776",
     "exception": false,
     "start_time": "2022-02-07T17:57:22.595676",
     "status": "completed"
    },
    "tags": []
   },
   "outputs": [
    {
     "data": {
      "application/javascript": [
       "parent.postMessage({\"jupyterEvent\": \"custom.exercise_interaction\", \"data\": {\"outcomeType\": 1, \"valueTowardsCompletion\": 0.5, \"interactionType\": 1, \"questionType\": 2, \"questionId\": \"4_OneHot\", \"learnToolsVersion\": \"0.3.4\", \"failureMessage\": \"\", \"exceptionClass\": \"\", \"trace\": \"\"}}, \"*\")"
      ],
      "text/plain": [
       "<IPython.core.display.Javascript object>"
      ]
     },
     "metadata": {},
     "output_type": "display_data"
    },
    {
     "data": {
      "text/markdown": [
       "<span style=\"color:#33cc33\">Correct</span>"
      ],
      "text/plain": [
       "Correct"
      ]
     },
     "metadata": {},
     "output_type": "display_data"
    }
   ],
   "source": [
    "from sklearn.preprocessing import OneHotEncoder\n",
    "\n",
    "# Use as many lines of code as you need!\n",
    "OH_encoder = OneHotEncoder(handle_unknown='ignore', sparse=False)\n",
    "OH_cols_train = pd.DataFrame(OH_encoder.fit_transform(X_train[low_cardinality_cols])) # Your code here\n",
    "OH_cols_valid = pd.DataFrame(OH_encoder.transform(X_valid[low_cardinality_cols])) # Your code here\n",
    "OH_cols_train.index = X_train.index\n",
    "OH_cols_valid.index = X_valid.index\n",
    "\n",
    "num_cols_train = X_train.drop(object_cols, axis=1)\n",
    "num_cols_valid = X_valid.drop(object_cols, axis=1)\n",
    "\n",
    "\n",
    "OH_X_train = pd.concat([num_cols_train, OH_cols_train], axis=1)\n",
    "OH_X_valid = pd.concat([num_cols_valid, OH_cols_valid], axis=1)\n",
    "# Check your answer\n",
    "step_4.check()"
   ]
  },
  {
   "cell_type": "code",
   "execution_count": 22,
   "id": "053f0c1c",
   "metadata": {
    "execution": {
     "iopub.execute_input": "2022-02-07T17:57:22.743908Z",
     "iopub.status.busy": "2022-02-07T17:57:22.743245Z",
     "iopub.status.idle": "2022-02-07T17:57:22.745341Z",
     "shell.execute_reply": "2022-02-07T17:57:22.745701Z",
     "shell.execute_reply.started": "2022-02-07T17:55:59.301765Z"
    },
    "papermill": {
     "duration": 0.041451,
     "end_time": "2022-02-07T17:57:22.745815",
     "exception": false,
     "start_time": "2022-02-07T17:57:22.704364",
     "status": "completed"
    },
    "tags": []
   },
   "outputs": [],
   "source": [
    "# Lines below will give you a hint or solution code\n",
    "#step_4.hint()\n",
    "#step_4.solution()"
   ]
  },
  {
   "cell_type": "markdown",
   "id": "dd1c72b2",
   "metadata": {
    "papermill": {
     "duration": 0.036146,
     "end_time": "2022-02-07T17:57:22.818360",
     "exception": false,
     "start_time": "2022-02-07T17:57:22.782214",
     "status": "completed"
    },
    "tags": []
   },
   "source": [
    "Run the next code cell to get the MAE for this approach."
   ]
  },
  {
   "cell_type": "code",
   "execution_count": 23,
   "id": "1caf5f7c",
   "metadata": {
    "execution": {
     "iopub.execute_input": "2022-02-07T17:57:22.898912Z",
     "iopub.status.busy": "2022-02-07T17:57:22.898135Z",
     "iopub.status.idle": "2022-02-07T17:57:24.471299Z",
     "shell.execute_reply": "2022-02-07T17:57:24.471715Z",
     "shell.execute_reply.started": "2022-02-07T17:56:00.612023Z"
    },
    "papermill": {
     "duration": 1.616426,
     "end_time": "2022-02-07T17:57:24.471888",
     "exception": false,
     "start_time": "2022-02-07T17:57:22.855462",
     "status": "completed"
    },
    "tags": []
   },
   "outputs": [
    {
     "name": "stdout",
     "output_type": "stream",
     "text": [
      "MAE from Approach 3 (One-Hot Encoding):\n",
      "17525.345719178084\n"
     ]
    }
   ],
   "source": [
    "print(\"MAE from Approach 3 (One-Hot Encoding):\") \n",
    "print(score_dataset(OH_X_train, OH_X_valid, y_train, y_valid))"
   ]
  },
  {
   "cell_type": "markdown",
   "id": "3e45fadc",
   "metadata": {
    "papermill": {
     "duration": 0.038625,
     "end_time": "2022-02-07T17:57:24.548235",
     "exception": false,
     "start_time": "2022-02-07T17:57:24.509610",
     "status": "completed"
    },
    "tags": []
   },
   "source": [
    "# Generate test predictions and submit your results\n",
    "\n",
    "After you complete Step 4, if you'd like to use what you've learned to submit your results to the leaderboard, you'll need to preprocess the test data before generating predictions.\n",
    "\n",
    "**This step is completely optional, and you do not need to submit results to the leaderboard to successfully complete the exercise.**\n",
    "\n",
    "Check out the previous exercise if you need help with remembering how to [join the competition](https://www.kaggle.com/c/home-data-for-ml-course) or save your results to CSV.  Once you have generated a file with your results, follow the instructions below:\n",
    "1. Begin by clicking on the **Save Version** button in the top right corner of the window.  This will generate a pop-up window.  \n",
    "2. Ensure that the **Save and Run All** option is selected, and then click on the **Save** button.\n",
    "3. This generates a window in the bottom left corner of the notebook.  After it has finished running, click on the number to the right of the **Save Version** button.  This pulls up a list of versions on the right of the screen.  Click on the ellipsis **(...)** to the right of the most recent version, and select **Open in Viewer**.  This brings you into view mode of the same page. You will need to scroll down to get back to these instructions.\n",
    "4. Click on the **Output** tab on the right of the screen.  Then, click on the file you would like to submit, and click on the **Submit** button to submit your results to the leaderboard.\n",
    "\n",
    "You have now successfully submitted to the competition!\n",
    "\n",
    "If you want to keep working to improve your performance, select the **Edit** button in the top right of the screen. Then you can change your code and repeat the process. There's a lot of room to improve, and you will climb up the leaderboard as you work.\n"
   ]
  },
  {
   "cell_type": "code",
   "execution_count": 24,
   "id": "df7aaca8",
   "metadata": {
    "execution": {
     "iopub.execute_input": "2022-02-07T17:57:24.626283Z",
     "iopub.status.busy": "2022-02-07T17:57:24.625516Z",
     "iopub.status.idle": "2022-02-07T17:57:24.627953Z",
     "shell.execute_reply": "2022-02-07T17:57:24.627531Z"
    },
    "papermill": {
     "duration": 0.042731,
     "end_time": "2022-02-07T17:57:24.628065",
     "exception": false,
     "start_time": "2022-02-07T17:57:24.585334",
     "status": "completed"
    },
    "tags": []
   },
   "outputs": [],
   "source": [
    "# (Optional) Your code here"
   ]
  },
  {
   "cell_type": "markdown",
   "id": "6d9c9569",
   "metadata": {
    "papermill": {
     "duration": 0.036964,
     "end_time": "2022-02-07T17:57:24.701934",
     "exception": false,
     "start_time": "2022-02-07T17:57:24.664970",
     "status": "completed"
    },
    "tags": []
   },
   "source": [
    "# Keep going\n",
    "\n",
    "With missing value handling and categorical encoding, your modeling process is getting complex. This complexity gets worse when you want to save your model to use in the future. The key to managing this complexity is something called **pipelines**. \n",
    "\n",
    "**[Learn to use pipelines](https://www.kaggle.com/alexisbcook/pipelines)** to preprocess datasets with categorical variables, missing values and any other messiness your data throws at you."
   ]
  },
  {
   "cell_type": "markdown",
   "id": "490078a7",
   "metadata": {
    "papermill": {
     "duration": 0.036468,
     "end_time": "2022-02-07T17:57:24.775402",
     "exception": false,
     "start_time": "2022-02-07T17:57:24.738934",
     "status": "completed"
    },
    "tags": []
   },
   "source": [
    "---\n",
    "\n",
    "\n",
    "\n",
    "\n",
    "*Have questions or comments? Visit the [course discussion forum](https://www.kaggle.com/learn/intermediate-machine-learning/discussion) to chat with other learners.*"
   ]
  }
 ],
 "metadata": {
  "kernelspec": {
   "display_name": "Python 3",
   "language": "python",
   "name": "python3"
  },
  "language_info": {
   "codemirror_mode": {
    "name": "ipython",
    "version": 3
   },
   "file_extension": ".py",
   "mimetype": "text/x-python",
   "name": "python",
   "nbconvert_exporter": "python",
   "pygments_lexer": "ipython3",
   "version": "3.7.12"
  },
  "papermill": {
   "default_parameters": {},
   "duration": 17.515052,
   "end_time": "2022-02-07T17:57:25.319153",
   "environment_variables": {},
   "exception": null,
   "input_path": "__notebook__.ipynb",
   "output_path": "__notebook__.ipynb",
   "parameters": {},
   "start_time": "2022-02-07T17:57:07.804101",
   "version": "2.3.3"
  }
 },
 "nbformat": 4,
 "nbformat_minor": 5
}
